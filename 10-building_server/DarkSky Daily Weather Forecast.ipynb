{
 "cells": [
  {
   "cell_type": "code",
   "execution_count": 1,
   "metadata": {},
   "outputs": [],
   "source": [
    "# Using APIs/Data Structures\n",
    "# Using the Dark Sky Forecast API at https://developer.forecast.io/, generate a sentence that describes the weather that day.\n",
    "\n",
    "# Right now it is TEMPERATURE degrees out and SUMMARY. Today will be TEMP_FEELING with a high of HIGH_TEMP and a low of LOW_TEMP. RAIN_WARNING.\n",
    "\n",
    "# TEMPERATURE is the current temperature\n",
    "# SUMMARY is what it currently looks like (partly cloudy, etc - it's \"summary\" in the dictionary). Lowercase, please.\n",
    "# TEMP_FEELING is whether it will be hot, warm, cold, or moderate. You will probably use HIGH_TEMP and your own thoughts and feelings to determine this.\n",
    "# HIGH_TEMP is the high temperature for the day.\n",
    "# LOW_TEMP is the low temperature for the day.\n",
    "# RAIN_WARNING is something like \"bring your umbrella!\" if it is going to rain at some point during the day.\n"
   ]
  },
  {
   "cell_type": "code",
   "execution_count": 2,
   "metadata": {},
   "outputs": [],
   "source": [
    "import requests\n",
    "from bs4 import BeautifulSoup\n",
    "import dotenv\n",
    "import datetime"
   ]
  },
  {
   "cell_type": "code",
   "execution_count": 3,
   "metadata": {},
   "outputs": [],
   "source": [
    "from dotenv import load_dotenv\n",
    "load_dotenv()\n",
    "import os\n",
    "\n",
    "API_KEY = os.getenv(\"DARKSKY_API_KEY\")\n",
    "MAIL_API = os.getenv('MAILGUN_API_KEY')"
   ]
  },
  {
   "cell_type": "code",
   "execution_count": 4,
   "metadata": {},
   "outputs": [],
   "source": [
    "response = requests.get(f'https://api.darksky.net/forecast/{API_KEY}/40.7128,-74.0060?units=si')\n",
    "new_york_weather = response.json()\n"
   ]
  },
  {
   "cell_type": "code",
   "execution_count": 5,
   "metadata": {},
   "outputs": [
    {
     "data": {
      "text/plain": [
       "dict_keys(['latitude', 'longitude', 'timezone', 'currently', 'minutely', 'hourly', 'daily', 'flags', 'offset'])"
      ]
     },
     "execution_count": 5,
     "metadata": {},
     "output_type": "execute_result"
    }
   ],
   "source": [
    "new_york_weather.keys()"
   ]
  },
  {
   "cell_type": "code",
   "execution_count": 6,
   "metadata": {},
   "outputs": [],
   "source": [
    "currently  = new_york_weather['currently']\n",
    "today = new_york_weather['daily']['data'][0]\n",
    "\n",
    "TEMPERATURE = currently['temperature']\n",
    "SUMMARY = currently['summary'].lower()\n",
    "HIGH_TEMP = today['temperatureHigh']\n",
    "LOW_TEMP = today['temperatureLow']\n",
    "\n",
    "if HIGH_TEMP > 30:\n",
    "    TEMP_FEELING = 'hot'\n",
    "elif HIGH_TEMP > 25:\n",
    "    TEMP_FEELING = 'warm'\n",
    "elif HIGH_TEMP > 15:\n",
    "    TEMP_FEELING = 'moderate'\n",
    "else:\n",
    "    TEMP_FEELING = 'cold'\n",
    "\n",
    "if today['icon'] == 'rain':\n",
    "    RAIN_WARNING = 'bring your umbralla'\n",
    "else:\n",
    "    RAIN_WARNING = ''\n",
    "    \n",
    "text = f'Right now it is {TEMPERATURE} degrees out and {SUMMARY}. Today will be {TEMP_FEELING} with a high of {HIGH_TEMP} and a low of {LOW_TEMP}. {RAIN_WARNING}.'\n"
   ]
  },
  {
   "cell_type": "code",
   "execution_count": 7,
   "metadata": {},
   "outputs": [],
   "source": [
    "import datetime\n",
    "right_now = datetime.datetime.now()\n",
    "date_string = right_now.strftime(\"%B %d, %Y\")\n",
    "\n",
    "title = f'8AM Weather forecast: {date_string}'"
   ]
  },
  {
   "cell_type": "code",
   "execution_count": 8,
   "metadata": {},
   "outputs": [
    {
     "data": {
      "text/plain": [
       "'{\\n  \"id\": \"<20190623234610.1.F9E8CFECA8B09BFD@sandboxa3143f679f974eb882f4c0b75d815986.mailgun.org>\",\\n  \"message\": \"Queued. Thank you.\"\\n}'"
      ]
     },
     "execution_count": 8,
     "metadata": {},
     "output_type": "execute_result"
    }
   ],
   "source": [
    "\n",
    "response = requests.post(\n",
    "        \"https://api.mailgun.net/v3/sandboxa3143f679f974eb882f4c0b75d815986.mailgun.org/messages\",\n",
    "        auth=(\"api\", MAIL_API ),\n",
    "        data={\"from\": \"Excited User <mailgun@sandboxa3143f679f974eb882f4c0b75d815986.mailgun.org>\",\n",
    "            \"to\": [\"taylorlau.yee@hotmail.com\", \"hl3289@columbia.edu\"],\n",
    "            \"subject\": title,\n",
    "            \"text\": text})\n",
    "response.text\n"
   ]
  },
  {
   "cell_type": "code",
   "execution_count": null,
   "metadata": {},
   "outputs": [],
   "source": []
  }
 ],
 "metadata": {
  "kernelspec": {
   "display_name": "Python 3",
   "language": "python",
   "name": "python3"
  },
  "language_info": {
   "codemirror_mode": {
    "name": "ipython",
    "version": 3
   },
   "file_extension": ".py",
   "mimetype": "text/x-python",
   "name": "python",
   "nbconvert_exporter": "python",
   "pygments_lexer": "ipython3",
   "version": "3.6.5"
  }
 },
 "nbformat": 4,
 "nbformat_minor": 2
}

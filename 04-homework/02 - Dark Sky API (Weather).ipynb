{
 "cells": [
  {
   "cell_type": "markdown",
   "metadata": {},
   "source": [
    "# Dark Sky API (Weather)\n",
    "\n",
    "Answer the following questions using the [Dark Sky API](https://darksky.net/dev/). I've added three cells for each question but you're free to use more or less! Hold `Shift` and hit `Enter` to run a cell, and use the `+` on the top left to add a new cell to a notebook.\n",
    "\n",
    "If you spend some time reading the documentation your life will probably be a little bit easier!\n",
    "\n",
    "## 0) Import any libraries you might need\n",
    "\n",
    "- *Tip: We're going to be downloading things from the internet, so we probably need `requests`.*"
   ]
  },
  {
   "cell_type": "code",
   "execution_count": 1,
   "metadata": {},
   "outputs": [],
   "source": [
    "import requests"
   ]
  },
  {
   "cell_type": "code",
   "execution_count": 2,
   "metadata": {},
   "outputs": [],
   "source": [
    "import dotenv"
   ]
  },
  {
   "cell_type": "code",
   "execution_count": 3,
   "metadata": {},
   "outputs": [],
   "source": [
    "!touch .env"
   ]
  },
  {
   "cell_type": "code",
   "execution_count": 4,
   "metadata": {},
   "outputs": [],
   "source": [
    "from dotenv import load_dotenv\n",
    "load_dotenv()\n",
    "import os\n",
    "\n",
    "API_KEY = os.getenv(\"DARKSKY_API_KEY\")"
   ]
  },
  {
   "cell_type": "code",
   "execution_count": 5,
   "metadata": {},
   "outputs": [],
   "source": [
    "import datetime"
   ]
  },
  {
   "cell_type": "markdown",
   "metadata": {
    "collapsed": true
   },
   "source": [
    "## 1) Make a request from the Dark Sky API for where you were born (or lived, or want to visit!).\n",
    "\n",
    "- *Tip: The URL we used in class was for a place near San Francisco. What was the format of the endpoint that made this happen?*\n",
    "- *Tip: Save the URL as a separate variable, and be sure to not have `[` and `]` inside.*\n",
    "- *Tip: How is north vs. south and east vs. west latitude/longitude represented? Is it the normal North/South/East/West?*\n",
    "- *Tip: You know it's JSON, but Python doesn't! Make sure you aren't trying to deal with plain text.* \n",
    "- *Tip: Once you've imported the JSON into a variable, check the timezone's name to make sure it seems like it got the right part of the world!*"
   ]
  },
  {
   "cell_type": "code",
   "execution_count": 6,
   "metadata": {},
   "outputs": [],
   "source": [
    "response = requests.get(f'https://api.darksky.net/forecast/{API_KEY}/23.1291,113.2644?units=si')\n",
    "guangzhou = response.json()"
   ]
  },
  {
   "cell_type": "code",
   "execution_count": 7,
   "metadata": {},
   "outputs": [
    {
     "data": {
      "text/plain": [
       "dict_keys(['latitude', 'longitude', 'timezone', 'currently', 'hourly', 'daily', 'flags', 'offset'])"
      ]
     },
     "execution_count": 7,
     "metadata": {},
     "output_type": "execute_result"
    }
   ],
   "source": [
    "guangzhou.keys()"
   ]
  },
  {
   "cell_type": "code",
   "execution_count": 8,
   "metadata": {},
   "outputs": [
    {
     "data": {
      "text/plain": [
       "'Asia/Shanghai'"
      ]
     },
     "execution_count": 8,
     "metadata": {},
     "output_type": "execute_result"
    }
   ],
   "source": [
    "guangzhou['timezone']"
   ]
  },
  {
   "cell_type": "markdown",
   "metadata": {},
   "source": [
    "## 2) What's the current wind speed? How much warmer does it feel than it actually is?\n",
    "\n",
    "- *Tip: You can do this by browsing through the dictionaries, but it might be easier to read the documentation*\n",
    "- *Tip: For the second half: it **is** one temperature, and it **feels** a different temperature. Calculate the difference.*"
   ]
  },
  {
   "cell_type": "code",
   "execution_count": 9,
   "metadata": {},
   "outputs": [
    {
     "data": {
      "text/plain": [
       "dict_keys(['time', 'summary', 'icon', 'precipIntensity', 'precipProbability', 'temperature', 'apparentTemperature', 'dewPoint', 'humidity', 'pressure', 'windSpeed', 'windGust', 'windBearing', 'cloudCover', 'uvIndex', 'visibility', 'ozone'])"
      ]
     },
     "execution_count": 9,
     "metadata": {},
     "output_type": "execute_result"
    }
   ],
   "source": [
    "gz_current_weather = guangzhou['currently']\n",
    "gz_current_weather.keys()"
   ]
  },
  {
   "cell_type": "code",
   "execution_count": 10,
   "metadata": {},
   "outputs": [
    {
     "data": {
      "text/plain": [
       "2.6"
      ]
     },
     "execution_count": 10,
     "metadata": {},
     "output_type": "execute_result"
    }
   ],
   "source": [
    "gz_current_weather['windSpeed']"
   ]
  },
  {
   "cell_type": "code",
   "execution_count": 11,
   "metadata": {},
   "outputs": [
    {
     "data": {
      "text/plain": [
       "5.149999999999999"
      ]
     },
     "execution_count": 11,
     "metadata": {},
     "output_type": "execute_result"
    }
   ],
   "source": [
    "gz_current_weather['apparentTemperature'] - gz_current_weather['temperature']"
   ]
  },
  {
   "cell_type": "markdown",
   "metadata": {},
   "source": [
    "## 3) Today's forecast is the FIRST daily forecast. For the place you decided on above, how much of the moon is currently visible?\n",
    "\n",
    "- *Tip: This does **not** use the `currently` key.*\n",
    "- *Tip: It might be helpful to save the forecast into its own variable*"
   ]
  },
  {
   "cell_type": "code",
   "execution_count": 12,
   "metadata": {},
   "outputs": [
    {
     "data": {
      "text/plain": [
       "dict_keys(['summary', 'icon', 'data'])"
      ]
     },
     "execution_count": 12,
     "metadata": {},
     "output_type": "execute_result"
    }
   ],
   "source": [
    "forecast = guangzhou['daily']\n",
    "forecast.keys()"
   ]
  },
  {
   "cell_type": "code",
   "execution_count": 13,
   "metadata": {},
   "outputs": [
    {
     "data": {
      "text/plain": [
       "{'time': 1559923200,\n",
       " 'summary': 'Humid and mostly cloudy throughout the day.',\n",
       " 'icon': 'partly-cloudy-day',\n",
       " 'sunriseTime': 1559943719,\n",
       " 'sunsetTime': 1559992367,\n",
       " 'moonPhase': 0.17,\n",
       " 'precipIntensity': 0.0025,\n",
       " 'precipIntensityMax': 0.0025,\n",
       " 'precipIntensityMaxTime': 1559952000,\n",
       " 'precipProbability': 0.2,\n",
       " 'precipType': 'rain',\n",
       " 'temperatureHigh': 35.32,\n",
       " 'temperatureHighTime': 1559977200,\n",
       " 'temperatureLow': 27.79,\n",
       " 'temperatureLowTime': 1560024000,\n",
       " 'apparentTemperatureHigh': 40.17,\n",
       " 'apparentTemperatureHighTime': 1559977200,\n",
       " 'apparentTemperatureLow': 31.18,\n",
       " 'apparentTemperatureLowTime': 1560024000,\n",
       " 'dewPoint': 23.24,\n",
       " 'humidity': 0.65,\n",
       " 'pressure': 1008.05,\n",
       " 'windSpeed': 4.15,\n",
       " 'windGust': 8.18,\n",
       " 'windGustTime': 1559998800,\n",
       " 'windBearing': 196,\n",
       " 'cloudCover': 0.73,\n",
       " 'uvIndex': 7,\n",
       " 'uvIndexTime': 1559966400,\n",
       " 'visibility': 15.4,\n",
       " 'ozone': 287.11,\n",
       " 'temperatureMin': 25.94,\n",
       " 'temperatureMinTime': 1559941200,\n",
       " 'temperatureMax': 35.32,\n",
       " 'temperatureMaxTime': 1559977200,\n",
       " 'apparentTemperatureMin': 27.87,\n",
       " 'apparentTemperatureMinTime': 1559941200,\n",
       " 'apparentTemperatureMax': 40.17,\n",
       " 'apparentTemperatureMaxTime': 1559977200}"
      ]
     },
     "execution_count": 13,
     "metadata": {},
     "output_type": "execute_result"
    }
   ],
   "source": [
    "today_forecast = forecast['data'][0]\n",
    "today_forecast"
   ]
  },
  {
   "cell_type": "code",
   "execution_count": 14,
   "metadata": {},
   "outputs": [
    {
     "name": "stdout",
     "output_type": "stream",
     "text": [
      "17.00% of the moon is visible.\n"
     ]
    }
   ],
   "source": [
    "moon = today_forecast['moonPhase']\n",
    "print(f\"{moon:.2%} of the moon is visible.\")"
   ]
  },
  {
   "cell_type": "markdown",
   "metadata": {},
   "source": [
    "## 4) What's the difference between the high and low temperatures for today?"
   ]
  },
  {
   "cell_type": "code",
   "execution_count": 15,
   "metadata": {},
   "outputs": [
    {
     "name": "stdout",
     "output_type": "stream",
     "text": [
      "The difference between the high and low temperatures for today is 7.53°C.\n"
     ]
    }
   ],
   "source": [
    "print(f\"The difference between the high and low temperatures for today is {round(today_forecast['temperatureHigh'] - today_forecast['temperatureLow'], 2)}°C.\")"
   ]
  },
  {
   "cell_type": "code",
   "execution_count": null,
   "metadata": {},
   "outputs": [],
   "source": []
  },
  {
   "cell_type": "code",
   "execution_count": null,
   "metadata": {},
   "outputs": [],
   "source": []
  },
  {
   "cell_type": "markdown",
   "metadata": {},
   "source": [
    "## 5) Go through the daily forecasts, printing out the next week's worth of predictions.\n",
    "\n",
    "I'd like to know the **high temperature** for each day, and whether it's **hot, warm, or cold** (based on what temperatures you think are hot, warm or cold).\n",
    "\n",
    "- *Tip: Is it returning F or C? You can change them by adding `?units=us` or `?units=si` onto the end of the URL.*\n",
    "- *Tip: You'll need to use an `if` statement to say whether it is hot, warm or cold.*"
   ]
  },
  {
   "cell_type": "code",
   "execution_count": 16,
   "metadata": {},
   "outputs": [
    {
     "data": {
      "text/plain": [
       "8"
      ]
     },
     "execution_count": 16,
     "metadata": {},
     "output_type": "execute_result"
    }
   ],
   "source": [
    "len(forecast['data'])"
   ]
  },
  {
   "cell_type": "code",
   "execution_count": 17,
   "metadata": {},
   "outputs": [
    {
     "data": {
      "text/plain": [
       "[{'time': 1560009600,\n",
       "  'summary': 'Humid and overcast throughout the day.',\n",
       "  'icon': 'cloudy',\n",
       "  'sunriseTime': 1560030119,\n",
       "  'sunsetTime': 1560078789,\n",
       "  'moonPhase': 0.21,\n",
       "  'precipIntensity': 0.1499,\n",
       "  'precipIntensityMax': 0.6452,\n",
       "  'precipIntensityMaxTime': 1560078000,\n",
       "  'precipProbability': 0.75,\n",
       "  'precipType': 'rain',\n",
       "  'temperatureHigh': 34.6,\n",
       "  'temperatureHighTime': 1560060000,\n",
       "  'temperatureLow': 28.12,\n",
       "  'temperatureLowTime': 1560110400,\n",
       "  'apparentTemperatureHigh': 40.68,\n",
       "  'apparentTemperatureHighTime': 1560060000,\n",
       "  'apparentTemperatureLow': 32.53,\n",
       "  'apparentTemperatureLowTime': 1560110400,\n",
       "  'dewPoint': 23.54,\n",
       "  'humidity': 0.65,\n",
       "  'pressure': 1004.7,\n",
       "  'windSpeed': 5.23,\n",
       "  'windGust': 8.61,\n",
       "  'windGustTime': 1560056400,\n",
       "  'windBearing': 206,\n",
       "  'cloudCover': 1,\n",
       "  'uvIndex': 5,\n",
       "  'uvIndexTime': 1560049200,\n",
       "  'visibility': 15.64,\n",
       "  'ozone': 278.46,\n",
       "  'temperatureMin': 27.79,\n",
       "  'temperatureMinTime': 1560024000,\n",
       "  'temperatureMax': 34.6,\n",
       "  'temperatureMaxTime': 1560060000,\n",
       "  'apparentTemperatureMin': 31.18,\n",
       "  'apparentTemperatureMinTime': 1560024000,\n",
       "  'apparentTemperatureMax': 40.68,\n",
       "  'apparentTemperatureMaxTime': 1560060000},\n",
       " {'time': 1560096000,\n",
       "  'summary': 'Rain until evening, starting again overnight.',\n",
       "  'icon': 'rain',\n",
       "  'sunriseTime': 1560116520,\n",
       "  'sunsetTime': 1560165210,\n",
       "  'moonPhase': 0.25,\n",
       "  'precipIntensity': 1.2573,\n",
       "  'precipIntensityMax': 3.0048,\n",
       "  'precipIntensityMaxTime': 1560135600,\n",
       "  'precipProbability': 0.98,\n",
       "  'precipType': 'rain',\n",
       "  'temperatureHigh': 31.61,\n",
       "  'temperatureHighTime': 1560150000,\n",
       "  'temperatureLow': 26.53,\n",
       "  'temperatureLowTime': 1560204000,\n",
       "  'apparentTemperatureHigh': 38.74,\n",
       "  'apparentTemperatureHighTime': 1560150000,\n",
       "  'apparentTemperatureLow': 29.34,\n",
       "  'apparentTemperatureLowTime': 1560204000,\n",
       "  'dewPoint': 24.68,\n",
       "  'humidity': 0.76,\n",
       "  'pressure': 1002.85,\n",
       "  'windSpeed': 2.59,\n",
       "  'windGust': 8.29,\n",
       "  'windGustTime': 1560110400,\n",
       "  'windBearing': 186,\n",
       "  'cloudCover': 1,\n",
       "  'uvIndex': 5,\n",
       "  'uvIndexTime': 1560135600,\n",
       "  'visibility': 9.99,\n",
       "  'ozone': 269.01,\n",
       "  'temperatureMin': 27.77,\n",
       "  'temperatureMinTime': 1560178800,\n",
       "  'temperatureMax': 31.61,\n",
       "  'temperatureMaxTime': 1560150000,\n",
       "  'apparentTemperatureMin': 31.68,\n",
       "  'apparentTemperatureMinTime': 1560178800,\n",
       "  'apparentTemperatureMax': 38.74,\n",
       "  'apparentTemperatureMaxTime': 1560150000},\n",
       " {'time': 1560182400,\n",
       "  'summary': 'Rain until evening, starting again overnight.',\n",
       "  'icon': 'rain',\n",
       "  'sunriseTime': 1560202921,\n",
       "  'sunsetTime': 1560251631,\n",
       "  'moonPhase': 0.29,\n",
       "  'precipIntensity': 2.5629,\n",
       "  'precipIntensityMax': 5.1943,\n",
       "  'precipIntensityMaxTime': 1560218400,\n",
       "  'precipProbability': 1,\n",
       "  'precipType': 'rain',\n",
       "  'temperatureHigh': 29.49,\n",
       "  'temperatureHighTime': 1560247200,\n",
       "  'temperatureLow': 25.61,\n",
       "  'temperatureLowTime': 1560279600,\n",
       "  'apparentTemperatureHigh': 35.49,\n",
       "  'apparentTemperatureHighTime': 1560247200,\n",
       "  'apparentTemperatureLow': 26.64,\n",
       "  'apparentTemperatureLowTime': 1560279600,\n",
       "  'dewPoint': 24.82,\n",
       "  'humidity': 0.85,\n",
       "  'pressure': 1003.16,\n",
       "  'windSpeed': 2.85,\n",
       "  'windGust': 9.41,\n",
       "  'windGustTime': 1560214800,\n",
       "  'windBearing': 154,\n",
       "  'cloudCover': 1,\n",
       "  'uvIndex': 5,\n",
       "  'uvIndexTime': 1560218400,\n",
       "  'visibility': 5.6,\n",
       "  'ozone': 265.53,\n",
       "  'temperatureMin': 26.53,\n",
       "  'temperatureMinTime': 1560204000,\n",
       "  'temperatureMax': 29.49,\n",
       "  'temperatureMaxTime': 1560247200,\n",
       "  'apparentTemperatureMin': 29.34,\n",
       "  'apparentTemperatureMinTime': 1560204000,\n",
       "  'apparentTemperatureMax': 35.49,\n",
       "  'apparentTemperatureMaxTime': 1560247200},\n",
       " {'time': 1560268800,\n",
       "  'summary': 'Rain in the morning.',\n",
       "  'icon': 'rain',\n",
       "  'sunriseTime': 1560289324,\n",
       "  'sunsetTime': 1560338051,\n",
       "  'moonPhase': 0.32,\n",
       "  'precipIntensity': 0.8153,\n",
       "  'precipIntensityMax': 2.0218,\n",
       "  'precipIntensityMaxTime': 1560286800,\n",
       "  'precipProbability': 0.99,\n",
       "  'precipType': 'rain',\n",
       "  'temperatureHigh': 32.46,\n",
       "  'temperatureHighTime': 1560322800,\n",
       "  'temperatureLow': 25.72,\n",
       "  'temperatureLowTime': 1560369600,\n",
       "  'apparentTemperatureHigh': 39.37,\n",
       "  'apparentTemperatureHighTime': 1560322800,\n",
       "  'apparentTemperatureLow': 27.33,\n",
       "  'apparentTemperatureLowTime': 1560369600,\n",
       "  'dewPoint': 24.29,\n",
       "  'humidity': 0.79,\n",
       "  'pressure': 1003.48,\n",
       "  'windSpeed': 1.65,\n",
       "  'windGust': 7.11,\n",
       "  'windGustTime': 1560286800,\n",
       "  'windBearing': 161,\n",
       "  'cloudCover': 0.99,\n",
       "  'uvIndex': 5,\n",
       "  'uvIndexTime': 1560308400,\n",
       "  'visibility': 10.57,\n",
       "  'ozone': 269.54,\n",
       "  'temperatureMin': 25.61,\n",
       "  'temperatureMinTime': 1560279600,\n",
       "  'temperatureMax': 32.46,\n",
       "  'temperatureMaxTime': 1560322800,\n",
       "  'apparentTemperatureMin': 26.64,\n",
       "  'apparentTemperatureMinTime': 1560279600,\n",
       "  'apparentTemperatureMax': 39.37,\n",
       "  'apparentTemperatureMaxTime': 1560322800},\n",
       " {'time': 1560355200,\n",
       "  'summary': 'Rain overnight.',\n",
       "  'icon': 'rain',\n",
       "  'sunriseTime': 1560375728,\n",
       "  'sunsetTime': 1560424471,\n",
       "  'moonPhase': 0.36,\n",
       "  'precipIntensity': 0.5182,\n",
       "  'precipIntensityMax': 2.4333,\n",
       "  'precipIntensityMaxTime': 1560438000,\n",
       "  'precipProbability': 0.99,\n",
       "  'precipType': 'rain',\n",
       "  'temperatureHigh': 32.42,\n",
       "  'temperatureHighTime': 1560409200,\n",
       "  'temperatureLow': 25.53,\n",
       "  'temperatureLowTime': 1560456000,\n",
       "  'apparentTemperatureHigh': 39.14,\n",
       "  'apparentTemperatureHighTime': 1560409200,\n",
       "  'apparentTemperatureLow': 26.46,\n",
       "  'apparentTemperatureLowTime': 1560456000,\n",
       "  'dewPoint': 24.24,\n",
       "  'humidity': 0.76,\n",
       "  'pressure': 1002.44,\n",
       "  'windSpeed': 0.28,\n",
       "  'windGust': 7.12,\n",
       "  'windGustTime': 1560427200,\n",
       "  'windBearing': 15,\n",
       "  'cloudCover': 0.99,\n",
       "  'uvIndex': 5,\n",
       "  'uvIndexTime': 1560394800,\n",
       "  'visibility': 15.35,\n",
       "  'ozone': 273.2,\n",
       "  'temperatureMin': 25.72,\n",
       "  'temperatureMinTime': 1560369600,\n",
       "  'temperatureMax': 32.42,\n",
       "  'temperatureMaxTime': 1560409200,\n",
       "  'apparentTemperatureMin': 27.33,\n",
       "  'apparentTemperatureMinTime': 1560369600,\n",
       "  'apparentTemperatureMax': 39.14,\n",
       "  'apparentTemperatureMaxTime': 1560409200},\n",
       " {'time': 1560441600,\n",
       "  'summary': 'Rain in the afternoon.',\n",
       "  'icon': 'rain',\n",
       "  'sunriseTime': 1560462133,\n",
       "  'sunsetTime': 1560510890,\n",
       "  'moonPhase': 0.39,\n",
       "  'precipIntensity': 0.5969,\n",
       "  'precipIntensityMax': 2.1412,\n",
       "  'precipIntensityMaxTime': 1560492000,\n",
       "  'precipProbability': 0.92,\n",
       "  'precipType': 'rain',\n",
       "  'temperatureHigh': 33.07,\n",
       "  'temperatureHighTime': 1560492000,\n",
       "  'temperatureLow': 26.32,\n",
       "  'temperatureLowTime': 1560542400,\n",
       "  'apparentTemperatureHigh': 39.13,\n",
       "  'apparentTemperatureHighTime': 1560488400,\n",
       "  'apparentTemperatureLow': 28.44,\n",
       "  'apparentTemperatureLowTime': 1560542400,\n",
       "  'dewPoint': 23.69,\n",
       "  'humidity': 0.72,\n",
       "  'pressure': 1001.75,\n",
       "  'windSpeed': 1.26,\n",
       "  'windGust': 6.24,\n",
       "  'windGustTime': 1560441600,\n",
       "  'windBearing': 16,\n",
       "  'cloudCover': 0.85,\n",
       "  'uvIndex': 7,\n",
       "  'uvIndexTime': 1560484800,\n",
       "  'visibility': 15.16,\n",
       "  'ozone': 286.88,\n",
       "  'temperatureMin': 25.53,\n",
       "  'temperatureMinTime': 1560456000,\n",
       "  'temperatureMax': 33.07,\n",
       "  'temperatureMaxTime': 1560492000,\n",
       "  'apparentTemperatureMin': 26.46,\n",
       "  'apparentTemperatureMinTime': 1560456000,\n",
       "  'apparentTemperatureMax': 39.13,\n",
       "  'apparentTemperatureMaxTime': 1560488400},\n",
       " {'time': 1560528000,\n",
       "  'summary': 'Rain in the evening.',\n",
       "  'icon': 'rain',\n",
       "  'sunriseTime': 1560548539,\n",
       "  'sunsetTime': 1560597308,\n",
       "  'moonPhase': 0.43,\n",
       "  'precipIntensity': 0.569,\n",
       "  'precipIntensityMax': 2.6822,\n",
       "  'precipIntensityMaxTime': 1560596400,\n",
       "  'precipProbability': 0.65,\n",
       "  'precipType': 'rain',\n",
       "  'temperatureHigh': 34.63,\n",
       "  'temperatureHighTime': 1560578400,\n",
       "  'temperatureLow': 26.69,\n",
       "  'temperatureLowTime': 1560632400,\n",
       "  'apparentTemperatureHigh': 39.97,\n",
       "  'apparentTemperatureHighTime': 1560578400,\n",
       "  'apparentTemperatureLow': 29.64,\n",
       "  'apparentTemperatureLowTime': 1560632400,\n",
       "  'dewPoint': 23,\n",
       "  'humidity': 0.66,\n",
       "  'pressure': 1003.24,\n",
       "  'windSpeed': 2.31,\n",
       "  'windGust': 7.55,\n",
       "  'windGustTime': 1560603600,\n",
       "  'windBearing': 112,\n",
       "  'cloudCover': 0.89,\n",
       "  'uvIndex': 6,\n",
       "  'uvIndexTime': 1560574800,\n",
       "  'visibility': 16.09,\n",
       "  'ozone': 288.51,\n",
       "  'temperatureMin': 26.32,\n",
       "  'temperatureMinTime': 1560542400,\n",
       "  'temperatureMax': 34.63,\n",
       "  'temperatureMaxTime': 1560578400,\n",
       "  'apparentTemperatureMin': 28.44,\n",
       "  'apparentTemperatureMinTime': 1560542400,\n",
       "  'apparentTemperatureMax': 39.97,\n",
       "  'apparentTemperatureMaxTime': 1560578400}]"
      ]
     },
     "execution_count": 17,
     "metadata": {},
     "output_type": "execute_result"
    }
   ],
   "source": [
    "next_week_forcast = forecast['data'][1:9]\n",
    "next_week_forcast"
   ]
  },
  {
   "cell_type": "code",
   "execution_count": 18,
   "metadata": {},
   "outputs": [
    {
     "name": "stdout",
     "output_type": "stream",
     "text": [
      "For day 1 in the next week, the high temperature is 34.6°C.\n",
      "The weather is hot.\n",
      "--------------------------------------------------------\n",
      "For day 2 in the next week, the high temperature is 31.61°C.\n",
      "The weather is hot.\n",
      "--------------------------------------------------------\n",
      "For day 3 in the next week, the high temperature is 29.49°C.\n",
      "The weather is warm.\n",
      "--------------------------------------------------------\n",
      "For day 4 in the next week, the high temperature is 32.46°C.\n",
      "The weather is hot.\n",
      "--------------------------------------------------------\n",
      "For day 5 in the next week, the high temperature is 32.42°C.\n",
      "The weather is hot.\n",
      "--------------------------------------------------------\n",
      "For day 6 in the next week, the high temperature is 33.07°C.\n",
      "The weather is hot.\n",
      "--------------------------------------------------------\n",
      "For day 7 in the next week, the high temperature is 34.63°C.\n",
      "The weather is hot.\n",
      "--------------------------------------------------------\n"
     ]
    }
   ],
   "source": [
    "for day in next_week_forcast: \n",
    "    print(f\"For day {next_week_forcast.index(day) + 1} in the next week, the high temperature is {day['temperatureHigh']}°C.\")\n",
    "    if day['temperatureHigh'] > 30:\n",
    "        print(\"The weather is hot.\")\n",
    "    elif day['temperatureHigh'] > 20:\n",
    "        print(\"The weather is warm.\")\n",
    "    else:\n",
    "        print(\"The weather is cold.\")\n",
    "    print(\"--------------------------------------------------------\")\n",
    "\n",
    "            "
   ]
  },
  {
   "cell_type": "markdown",
   "metadata": {},
   "source": [
    "# 6) What will be the hottest day in the next week? What is the high temperature on that day?\n",
    "\n",
    "It's okay if your result looks like `1453363200`. If you want to be extra-fancy, though, format it as a **real date** - the weird number is called a **UNIX timestamp**, which might help in googling.\n",
    "\n",
    "- *Tip: It's okay to skip this if it seems too difficult!*"
   ]
  },
  {
   "cell_type": "code",
   "execution_count": 19,
   "metadata": {},
   "outputs": [
    {
     "name": "stdout",
     "output_type": "stream",
     "text": [
      "The hottest day in the next week would be 2019-06-14, and the high temperature of that date is 34.63.\n"
     ]
    }
   ],
   "source": [
    "date_htemp = {}\n",
    "hottest_temp = 0\n",
    "\n",
    "for day in next_week_forcast:\n",
    "    date_htemp[day['temperatureHigh']] = day['time']\n",
    "    if day['temperatureHigh'] > hottest_temp:\n",
    "        hottest_temp = day['temperatureHigh']\n",
    "\n",
    "hottest_date = date_htemp[hottest_temp]\n",
    "\n",
    "#https://docs.python.org/2/library/datetime.html#strftime-and-strptime-behavior\n",
    "# (datetime.date.fromtimestamp(date))   \n",
    "hottest_date = datetime.date.fromtimestamp(hottest_date)\n",
    "\n",
    "print(f\"The hottest day in the next week would be {hottest_date}, and the high temperature of that date is {hottest_temp}.\")\n",
    "\n"
   ]
  },
  {
   "cell_type": "code",
   "execution_count": null,
   "metadata": {},
   "outputs": [],
   "source": []
  },
  {
   "cell_type": "code",
   "execution_count": null,
   "metadata": {},
   "outputs": [],
   "source": []
  },
  {
   "cell_type": "markdown",
   "metadata": {},
   "source": [
    "## 7) What's the weather looking like for the next 24+ hours in Miami, Florida?\n",
    "\n",
    "I'd like to know the temperature for every hour, and if it's going to have cloud cover of more than 50% say \"{temperature} and cloudy\" instead of just the temperature. \n",
    "\n",
    "\n",
    "- *Tip: Be sure to remember how latitude and longitude are done with positive and negative numbers*\n",
    "- *Tip: How do you represent \"50%\" for cloud cover?*"
   ]
  },
  {
   "cell_type": "code",
   "execution_count": 20,
   "metadata": {},
   "outputs": [],
   "source": [
    "response = requests.get(f'https://api.darksky.net/forecast/{API_KEY}/25.7617,-80.1918')"
   ]
  },
  {
   "cell_type": "code",
   "execution_count": 21,
   "metadata": {},
   "outputs": [],
   "source": [
    "miami = response.json()"
   ]
  },
  {
   "cell_type": "code",
   "execution_count": 22,
   "metadata": {},
   "outputs": [
    {
     "data": {
      "text/plain": [
       "dict_keys(['time', 'summary', 'icon', 'precipIntensity', 'precipProbability', 'temperature', 'apparentTemperature', 'dewPoint', 'humidity', 'pressure', 'windSpeed', 'windGust', 'windBearing', 'cloudCover', 'uvIndex', 'visibility', 'ozone'])"
      ]
     },
     "execution_count": 22,
     "metadata": {},
     "output_type": "execute_result"
    }
   ],
   "source": [
    "miami_hourly = miami['hourly']['data']\n",
    "miami_next_24hrs = miami_hourly[1:25]\n",
    "miami_next_24hrs[0].keys()"
   ]
  },
  {
   "cell_type": "code",
   "execution_count": 23,
   "metadata": {},
   "outputs": [
    {
     "name": "stdout",
     "output_type": "stream",
     "text": [
      "1 hour from now, in Miami, Florida, it would be 91.33°F and cloudy.\n",
      "2 hours from now, in Miami, Florida, it would be 89.67°F and cloudy.\n",
      "3 hours from now, in Miami, Florida, it would be 87.93°F and cloudy.\n",
      "4 hours from now, in Miami, Florida, it would be 87.35°F and cloudy.\n",
      "5 hours from now, in Miami, Florida, it would be 86.31°F and cloudy.\n",
      "6 hours from now, in Miami, Florida, it would be 85°F and cloudy.\n",
      "7 hours from now, in Miami, Florida, it would be 83.63°F and cloudy.\n",
      "8 hours from now, in Miami, Florida, it would be 83.06°F and cloudy.\n",
      "9 hours from now, in Miami, Florida, it would be 82.79°F and cloudy.\n",
      "10 hours from now, in Miami, Florida, it would be 82.27°F and cloudy.\n",
      "11 hours from now, in Miami, Florida, it would be 81.83°F and cloudy.\n",
      "12 hours from now, in Miami, Florida, it would be 81.49°F and cloudy.\n",
      "13 hours from now, in Miami, Florida, it would be 79.62°F and cloudy.\n",
      "14 hours from now, in Miami, Florida, it would be 77.69°F and cloudy.\n",
      "15 hours from now, in Miami, Florida, it would be 76.96°F and cloudy.\n",
      "16 hours from now, in Miami, Florida, it would be 76.81°F and cloudy.\n",
      "17 hours from now, in Miami, Florida, it would be 77.17°F and cloudy.\n",
      "18 hours from now, in Miami, Florida, it would be 77.94°F and cloudy.\n",
      "19 hours from now, in Miami, Florida, it would be 79.53°F and cloudy.\n",
      "20 hours from now, in Miami, Florida, it would be 82.12°F and cloudy.\n",
      "21 hours from now, in Miami, Florida, it would be 84.51°F.\n",
      "22 hours from now, in Miami, Florida, it would be 86.27°F.\n",
      "23 hours from now, in Miami, Florida, it would be 87.62°F.\n",
      "24 hours from now, in Miami, Florida, it would be 90.13°F and cloudy.\n"
     ]
    }
   ],
   "source": [
    "\n",
    "for hour in miami_next_24hrs:    \n",
    "    if (miami_next_24hrs.index(hour)) > 0 and (hour['cloudCover']) > 0.5:\n",
    "        print(f\"{(miami_next_24hrs.index(hour) + 1)} hours from now, in Miami, Florida, it would be {hour['temperature']}°F and cloudy.\")\n",
    "    elif (miami_next_24hrs.index(hour)) > 0 and (hour['cloudCover']) <= 0.5:\n",
    "        print(f\"{(miami_next_24hrs.index(hour) + 1)} hours from now, in Miami, Florida, it would be {hour['temperature']}°F.\")\n",
    "    elif (miami_next_24hrs.index(hour)) == 0 and (hour['cloudCover']) > 0.5:\n",
    "        print(f\"{(miami_next_24hrs.index(hour) + 1)} hour from now, in Miami, Florida, it would be {hour['temperature']}°F and cloudy.\")\n",
    "    else:\n",
    "        print(f\"{(miami_next_24hrs.index(hour) + 1)} hour from now, in Miami, Florida, it would be {hour['temperature']}°F.\")\n",
    "              \n",
    "              "
   ]
  },
  {
   "cell_type": "markdown",
   "metadata": {},
   "source": [
    "# 8) For the next 24-ish hours in Miami, what percent of the time is the temperature above 85 degrees?\n",
    "\n",
    "If they give you 48 hours instead of 24, that's okay.\n",
    "\n",
    "- *Tip: You might want to read up on [looping patterns](http://jonathansoma.com/lede/foundations-2017/classes/data%20structures/looping-patterns/)*"
   ]
  },
  {
   "cell_type": "code",
   "execution_count": 24,
   "metadata": {},
   "outputs": [
    {
     "name": "stdout",
     "output_type": "stream",
     "text": [
      "For the next 24-ish hours in Miami, 33.33% of time is above 85 degrees.\n"
     ]
    }
   ],
   "source": [
    "count = 0\n",
    "\n",
    "for hour in miami_next_24hrs:\n",
    "    if hour['temperature'] > 85:\n",
    "        count = count + 1\n",
    "\n",
    "print(f\"For the next 24-ish hours in Miami, {(count/24):.2%} of time is above 85 degrees.\")"
   ]
  },
  {
   "cell_type": "code",
   "execution_count": null,
   "metadata": {},
   "outputs": [],
   "source": []
  },
  {
   "cell_type": "code",
   "execution_count": null,
   "metadata": {},
   "outputs": [],
   "source": []
  },
  {
   "cell_type": "code",
   "execution_count": null,
   "metadata": {},
   "outputs": [],
   "source": []
  },
  {
   "cell_type": "markdown",
   "metadata": {},
   "source": [
    "## 9) What was the temperature in Central Park on Christmas Day, 2012? How about 2007? 2005? How far back does the API allow you to go?\n",
    "\n",
    "- *Tip: You'll need to use UNIX time, which is the number of seconds since January 1, 1970. Google can help you convert a normal date!*\n",
    "- *Tip: You'll want to use Forecast.io's \"time machine\" API, [documentation here](https://darksky.net/dev/docs/time-machine)*"
   ]
  },
  {
   "cell_type": "code",
   "execution_count": 25,
   "metadata": {},
   "outputs": [],
   "source": [
    "christmas_2012 = 1356411600\n",
    "christmas_2007 = 1198558800\n",
    "christmas_2005 = 1135486800"
   ]
  },
  {
   "cell_type": "code",
   "execution_count": 26,
   "metadata": {},
   "outputs": [],
   "source": [
    "central_park_coord = \"40.7829,-73.9654\""
   ]
  },
  {
   "cell_type": "code",
   "execution_count": 32,
   "metadata": {},
   "outputs": [
    {
     "name": "stdout",
     "output_type": "stream",
     "text": [
      "In Central Park on Christmas Day, 2012, the weather was mostly cloudy throughout the day, with a high of 40.28°F and a a low of 32.49°F.\n"
     ]
    }
   ],
   "source": [
    "response = requests.get(f\"https://api.darksky.net/forecast/{API_KEY}/{central_park_coord},{christmas_2012}\")\n",
    "cp_christmas_2012_weather = response.json()\n",
    "cp_christmas_2012_weather_summary = cp_christmas_2012_weather['daily']['data'][0]['summary'].replace(\".\", \"\")\n",
    "cp_christmas_2012_temp = cp_christmas_2012_weather['hourly']['data'][0:24]\n",
    "\n",
    "temp2012 = []\n",
    "for hour in cp_christmas_2012_temp:\n",
    "    temp2012.append(hour['temperature'])\n",
    "\n",
    "print(f\"In Central Park on Christmas Day, 2012, the weather was {cp_christmas_2012_weather_summary.lower()}, with a high of {max(temp2012)}°F and a a low of {min(temp2012)}°F.\")\n",
    "    \n",
    "    "
   ]
  },
  {
   "cell_type": "code",
   "execution_count": 31,
   "metadata": {},
   "outputs": [
    {
     "name": "stdout",
     "output_type": "stream",
     "text": [
      "In Central Park on Christmas Day, 2007, the weather was partly cloudy starting in the afternoon, continuing until evening, with a high of 42.33°F and a a low of 33.24°F.\n"
     ]
    }
   ],
   "source": [
    "response = requests.get(f\"https://api.darksky.net/forecast/{API_KEY}/{central_park_coord},{christmas_2007}\")\n",
    "cp_christmas_2007_weather = response.json()\n",
    "cp_christmas_2007_weather_summary = cp_christmas_2007_weather['daily']['data'][0]['summary'].replace(\".\", \"\")\n",
    "cp_christmas_2007_temp = cp_christmas_2007_weather['hourly']['data'][0:24]\n",
    "\n",
    "temp2007 = []\n",
    "for hour in cp_christmas_2007_temp:\n",
    "    temp2007.append(hour['temperature'])\n",
    "\n",
    "print(f\"In Central Park on Christmas Day, 2007, the weather was {cp_christmas_2007_weather_summary.lower()}, with a high of {max(temp2007)}°F and a a low of {min(temp2007)}°F.\")\n",
    "    \n",
    "    "
   ]
  },
  {
   "cell_type": "code",
   "execution_count": 29,
   "metadata": {},
   "outputs": [
    {
     "name": "stdout",
     "output_type": "stream",
     "text": [
      "In Central Park on Christmas Day, 2005, the weather was rain starting in the afternoon, with a high of 49.63°F and a a low of 35.05°F.\n"
     ]
    }
   ],
   "source": [
    "response = requests.get(f\"https://api.darksky.net/forecast/{API_KEY}/{central_park_coord},{christmas_2005}\")\n",
    "cp_christmas_2005_weather = response.json()\n",
    "cp_christmas_2005_weather_summary = cp_christmas_2005_weather['daily']['data'][0]['summary'].replace(\".\", \"\")\n",
    "cp_christmas_2005_temp = cp_christmas_2005_weather['hourly']['data'][0:24]\n",
    "\n",
    "temp2005 = []\n",
    "for hour in cp_christmas_2005_temp:\n",
    "    temp2005.append(hour['temperature'])\n",
    "\n",
    "print(f\"In Central Park on Christmas Day, 2005, the weather was {cp_christmas_2005_weather_summary.lower()}, with a high of {max(temp2005)}°F and a a low of {min(temp2005)}°F.\")\n",
    "    \n",
    "    "
   ]
  },
  {
   "cell_type": "code",
   "execution_count": 30,
   "metadata": {},
   "outputs": [],
   "source": [
    "# With UNIX timestamp, the time machine can only go back up as far as January 1, 1970."
   ]
  }
 ],
 "metadata": {
  "kernelspec": {
   "display_name": "Python 3",
   "language": "python",
   "name": "python3"
  },
  "language_info": {
   "codemirror_mode": {
    "name": "ipython",
    "version": 3
   },
   "file_extension": ".py",
   "mimetype": "text/x-python",
   "name": "python",
   "nbconvert_exporter": "python",
   "pygments_lexer": "ipython3",
   "version": "3.6.5"
  }
 },
 "nbformat": 4,
 "nbformat_minor": 1
}

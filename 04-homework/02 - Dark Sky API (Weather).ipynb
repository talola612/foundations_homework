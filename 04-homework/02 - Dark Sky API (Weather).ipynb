{
 "cells": [
  {
   "cell_type": "markdown",
   "metadata": {},
   "source": [
    "# Dark Sky API (Weather)\n",
    "\n",
    "Answer the following questions using the [Dark Sky API](https://darksky.net/dev/). I've added three cells for each question but you're free to use more or less! Hold `Shift` and hit `Enter` to run a cell, and use the `+` on the top left to add a new cell to a notebook.\n",
    "\n",
    "If you spend some time reading the documentation your life will probably be a little bit easier!\n",
    "\n",
    "## 0) Import any libraries you might need\n",
    "\n",
    "- *Tip: We're going to be downloading things from the internet, so we probably need `requests`.*"
   ]
  },
  {
   "cell_type": "code",
   "execution_count": 1,
   "metadata": {},
   "outputs": [],
   "source": [
    "import requests"
   ]
  },
  {
   "cell_type": "code",
   "execution_count": 2,
   "metadata": {},
   "outputs": [],
   "source": [
    "import dotenv"
   ]
  },
  {
   "cell_type": "code",
   "execution_count": 3,
   "metadata": {},
   "outputs": [],
   "source": [
    "!touch .env"
   ]
  },
  {
   "cell_type": "code",
   "execution_count": 4,
   "metadata": {},
   "outputs": [],
   "source": [
    "from dotenv import load_dotenv\n",
    "load_dotenv()\n",
    "import os\n",
    "\n",
    "API_KEY = os.getenv(\"DARKSKY_API_KEY\")"
   ]
  },
  {
   "cell_type": "code",
   "execution_count": 5,
   "metadata": {},
   "outputs": [],
   "source": [
    "import datetime"
   ]
  },
  {
   "cell_type": "markdown",
   "metadata": {
    "collapsed": true
   },
   "source": [
    "## 1) Make a request from the Dark Sky API for where you were born (or lived, or want to visit!).\n",
    "\n",
    "- *Tip: The URL we used in class was for a place near San Francisco. What was the format of the endpoint that made this happen?*\n",
    "- *Tip: Save the URL as a separate variable, and be sure to not have `[` and `]` inside.*\n",
    "- *Tip: How is north vs. south and east vs. west latitude/longitude represented? Is it the normal North/South/East/West?*\n",
    "- *Tip: You know it's JSON, but Python doesn't! Make sure you aren't trying to deal with plain text.* \n",
    "- *Tip: Once you've imported the JSON into a variable, check the timezone's name to make sure it seems like it got the right part of the world!*"
   ]
  },
  {
   "cell_type": "code",
   "execution_count": 6,
   "metadata": {},
   "outputs": [],
   "source": [
    "response = requests.get(f'https://api.darksky.net/forecast/{API_KEY}/23.1291,113.2644?units=si')\n",
    "guangzhou = response.json()"
   ]
  },
  {
   "cell_type": "code",
   "execution_count": 7,
   "metadata": {},
   "outputs": [
    {
     "data": {
      "text/plain": [
       "dict_keys(['latitude', 'longitude', 'timezone', 'currently', 'hourly', 'daily', 'flags', 'offset'])"
      ]
     },
     "execution_count": 7,
     "metadata": {},
     "output_type": "execute_result"
    }
   ],
   "source": [
    "guangzhou.keys()"
   ]
  },
  {
   "cell_type": "code",
   "execution_count": 8,
   "metadata": {},
   "outputs": [
    {
     "data": {
      "text/plain": [
       "'Asia/Shanghai'"
      ]
     },
     "execution_count": 8,
     "metadata": {},
     "output_type": "execute_result"
    }
   ],
   "source": [
    "guangzhou['timezone']"
   ]
  },
  {
   "cell_type": "markdown",
   "metadata": {},
   "source": [
    "## 2) What's the current wind speed? How much warmer does it feel than it actually is?\n",
    "\n",
    "- *Tip: You can do this by browsing through the dictionaries, but it might be easier to read the documentation*\n",
    "- *Tip: For the second half: it **is** one temperature, and it **feels** a different temperature. Calculate the difference.*"
   ]
  },
  {
   "cell_type": "code",
   "execution_count": 9,
   "metadata": {},
   "outputs": [
    {
     "data": {
      "text/plain": [
       "dict_keys(['time', 'summary', 'icon', 'nearestStormDistance', 'precipIntensity', 'precipProbability', 'precipType', 'temperature', 'apparentTemperature', 'dewPoint', 'humidity', 'pressure', 'windSpeed', 'windGust', 'windBearing', 'cloudCover', 'uvIndex', 'visibility', 'ozone'])"
      ]
     },
     "execution_count": 9,
     "metadata": {},
     "output_type": "execute_result"
    }
   ],
   "source": [
    "gz_current_weather = guangzhou['currently']\n",
    "gz_current_weather.keys()"
   ]
  },
  {
   "cell_type": "code",
   "execution_count": 10,
   "metadata": {},
   "outputs": [
    {
     "data": {
      "text/plain": [
       "2.48"
      ]
     },
     "execution_count": 10,
     "metadata": {},
     "output_type": "execute_result"
    }
   ],
   "source": [
    "gz_current_weather['windSpeed']"
   ]
  },
  {
   "cell_type": "code",
   "execution_count": 11,
   "metadata": {},
   "outputs": [
    {
     "data": {
      "text/plain": [
       "3.4299999999999997"
      ]
     },
     "execution_count": 11,
     "metadata": {},
     "output_type": "execute_result"
    }
   ],
   "source": [
    "gz_current_weather['apparentTemperature'] - gz_current_weather['temperature']"
   ]
  },
  {
   "cell_type": "markdown",
   "metadata": {},
   "source": [
    "## 3) Today's forecast is the FIRST daily forecast. For the place you decided on above, how much of the moon is currently visible?\n",
    "\n",
    "- *Tip: This does **not** use the `currently` key.*\n",
    "- *Tip: It might be helpful to save the forecast into its own variable*"
   ]
  },
  {
   "cell_type": "code",
   "execution_count": 12,
   "metadata": {},
   "outputs": [
    {
     "data": {
      "text/plain": [
       "dict_keys(['summary', 'icon', 'data'])"
      ]
     },
     "execution_count": 12,
     "metadata": {},
     "output_type": "execute_result"
    }
   ],
   "source": [
    "forecast = guangzhou['daily']\n",
    "forecast.keys()"
   ]
  },
  {
   "cell_type": "code",
   "execution_count": 13,
   "metadata": {},
   "outputs": [
    {
     "data": {
      "text/plain": [
       "{'time': 1561305600,\n",
       " 'summary': 'Rain and humid throughout the day.',\n",
       " 'icon': 'rain',\n",
       " 'sunriseTime': 1561326234,\n",
       " 'sunsetTime': 1561375033,\n",
       " 'moonPhase': 0.72,\n",
       " 'precipIntensity': 1.1732,\n",
       " 'precipIntensityMax': 2.8363,\n",
       " 'precipIntensityMaxTime': 1561341600,\n",
       " 'precipProbability': 0.98,\n",
       " 'precipType': 'rain',\n",
       " 'temperatureHigh': 27.57,\n",
       " 'temperatureHighTime': 1561366800,\n",
       " 'temperatureLow': 24.59,\n",
       " 'temperatureLowTime': 1561410000,\n",
       " 'apparentTemperatureHigh': 31.17,\n",
       " 'apparentTemperatureHighTime': 1561366800,\n",
       " 'apparentTemperatureLow': 25.5,\n",
       " 'apparentTemperatureLowTime': 1561410000,\n",
       " 'dewPoint': 24.25,\n",
       " 'humidity': 0.86,\n",
       " 'pressure': 1005.49,\n",
       " 'windSpeed': 1.95,\n",
       " 'windGust': 7.62,\n",
       " 'windGustTime': 1561345200,\n",
       " 'windBearing': 166,\n",
       " 'cloudCover': 0.93,\n",
       " 'uvIndex': 5,\n",
       " 'uvIndexTime': 1561348800,\n",
       " 'visibility': 10.864,\n",
       " 'ozone': 271.7,\n",
       " 'temperatureMin': 25.76,\n",
       " 'temperatureMinTime': 1561327200,\n",
       " 'temperatureMax': 27.83,\n",
       " 'temperatureMaxTime': 1561305600,\n",
       " 'apparentTemperatureMin': 27.48,\n",
       " 'apparentTemperatureMinTime': 1561327200,\n",
       " 'apparentTemperatureMax': 31.67,\n",
       " 'apparentTemperatureMaxTime': 1561305600}"
      ]
     },
     "execution_count": 13,
     "metadata": {},
     "output_type": "execute_result"
    }
   ],
   "source": [
    "today_forecast = forecast['data'][0]\n",
    "today_forecast"
   ]
  },
  {
   "cell_type": "code",
   "execution_count": 14,
   "metadata": {},
   "outputs": [
    {
     "name": "stdout",
     "output_type": "stream",
     "text": [
      "72.00% of the moon is visible.\n"
     ]
    }
   ],
   "source": [
    "moon = today_forecast['moonPhase']\n",
    "print(f\"{moon:.2%} of the moon is visible.\")"
   ]
  },
  {
   "cell_type": "markdown",
   "metadata": {},
   "source": [
    "## 4) What's the difference between the high and low temperatures for today?"
   ]
  },
  {
   "cell_type": "code",
   "execution_count": 15,
   "metadata": {},
   "outputs": [
    {
     "name": "stdout",
     "output_type": "stream",
     "text": [
      "The difference between the high and low temperatures for today is 2.98°C.\n"
     ]
    }
   ],
   "source": [
    "print(f\"The difference between the high and low temperatures for today is {round(today_forecast['temperatureHigh'] - today_forecast['temperatureLow'], 2)}°C.\")"
   ]
  },
  {
   "cell_type": "code",
   "execution_count": null,
   "metadata": {},
   "outputs": [],
   "source": []
  },
  {
   "cell_type": "code",
   "execution_count": null,
   "metadata": {},
   "outputs": [],
   "source": []
  },
  {
   "cell_type": "markdown",
   "metadata": {},
   "source": [
    "## 5) Go through the daily forecasts, printing out the next week's worth of predictions.\n",
    "\n",
    "I'd like to know the **high temperature** for each day, and whether it's **hot, warm, or cold** (based on what temperatures you think are hot, warm or cold).\n",
    "\n",
    "- *Tip: Is it returning F or C? You can change them by adding `?units=us` or `?units=si` onto the end of the URL.*\n",
    "- *Tip: You'll need to use an `if` statement to say whether it is hot, warm or cold.*"
   ]
  },
  {
   "cell_type": "code",
   "execution_count": 16,
   "metadata": {},
   "outputs": [
    {
     "data": {
      "text/plain": [
       "8"
      ]
     },
     "execution_count": 16,
     "metadata": {},
     "output_type": "execute_result"
    }
   ],
   "source": [
    "len(forecast['data'])"
   ]
  },
  {
   "cell_type": "code",
   "execution_count": 17,
   "metadata": {},
   "outputs": [
    {
     "data": {
      "text/plain": [
       "[{'time': 1561392000,\n",
       "  'summary': 'Light rain and humid throughout the day.',\n",
       "  'icon': 'rain',\n",
       "  'sunriseTime': 1561412648,\n",
       "  'sunsetTime': 1561461443,\n",
       "  'moonPhase': 0.75,\n",
       "  'precipIntensity': 0.5671,\n",
       "  'precipIntensityMax': 1.6007,\n",
       "  'precipIntensityMaxTime': 1561410000,\n",
       "  'precipProbability': 0.93,\n",
       "  'precipType': 'rain',\n",
       "  'temperatureHigh': 30.18,\n",
       "  'temperatureHighTime': 1561453200,\n",
       "  'temperatureLow': 25.28,\n",
       "  'temperatureLowTime': 1561485600,\n",
       "  'apparentTemperatureHigh': 34.45,\n",
       "  'apparentTemperatureHighTime': 1561453200,\n",
       "  'apparentTemperatureLow': 26.16,\n",
       "  'apparentTemperatureLowTime': 1561485600,\n",
       "  'dewPoint': 23.31,\n",
       "  'humidity': 0.81,\n",
       "  'pressure': 1005.9,\n",
       "  'windSpeed': 1.94,\n",
       "  'windGust': 7.35,\n",
       "  'windGustTime': 1561474800,\n",
       "  'windBearing': 72,\n",
       "  'cloudCover': 0.97,\n",
       "  'uvIndex': 5,\n",
       "  'uvIndexTime': 1561438800,\n",
       "  'visibility': 15.568,\n",
       "  'ozone': 277.7,\n",
       "  'temperatureMin': 24.59,\n",
       "  'temperatureMinTime': 1561410000,\n",
       "  'temperatureMax': 30.18,\n",
       "  'temperatureMaxTime': 1561453200,\n",
       "  'apparentTemperatureMin': 25.5,\n",
       "  'apparentTemperatureMinTime': 1561410000,\n",
       "  'apparentTemperatureMax': 34.45,\n",
       "  'apparentTemperatureMaxTime': 1561453200},\n",
       " {'time': 1561478400,\n",
       "  'summary': 'Possible light rain and humid throughout the day.',\n",
       "  'icon': 'rain',\n",
       "  'sunriseTime': 1561499064,\n",
       "  'sunsetTime': 1561547851,\n",
       "  'moonPhase': 0.78,\n",
       "  'precipIntensity': 0.3,\n",
       "  'precipIntensityMax': 0.98,\n",
       "  'precipIntensityMaxTime': 1561539600,\n",
       "  'precipProbability': 0.85,\n",
       "  'precipType': 'rain',\n",
       "  'temperatureHigh': 32.03,\n",
       "  'temperatureHighTime': 1561532400,\n",
       "  'temperatureLow': 27.2,\n",
       "  'temperatureLowTime': 1561582800,\n",
       "  'apparentTemperatureHigh': 38.4,\n",
       "  'apparentTemperatureHighTime': 1561532400,\n",
       "  'apparentTemperatureLow': 30.53,\n",
       "  'apparentTemperatureLowTime': 1561582800,\n",
       "  'dewPoint': 24.12,\n",
       "  'humidity': 0.79,\n",
       "  'pressure': 1002.84,\n",
       "  'windSpeed': 1.82,\n",
       "  'windGust': 7.18,\n",
       "  'windGustTime': 1561485600,\n",
       "  'windBearing': 171,\n",
       "  'cloudCover': 0.92,\n",
       "  'uvIndex': 7,\n",
       "  'uvIndexTime': 1561521600,\n",
       "  'visibility': 15.959,\n",
       "  'ozone': 279.8,\n",
       "  'temperatureMin': 25.28,\n",
       "  'temperatureMinTime': 1561485600,\n",
       "  'temperatureMax': 32.03,\n",
       "  'temperatureMaxTime': 1561532400,\n",
       "  'apparentTemperatureMin': 26.16,\n",
       "  'apparentTemperatureMinTime': 1561485600,\n",
       "  'apparentTemperatureMax': 38.4,\n",
       "  'apparentTemperatureMaxTime': 1561532400},\n",
       " {'time': 1561564800,\n",
       "  'summary': 'Possible light rain overnight.',\n",
       "  'icon': 'rain',\n",
       "  'sunriseTime': 1561585480,\n",
       "  'sunsetTime': 1561634258,\n",
       "  'moonPhase': 0.82,\n",
       "  'precipIntensity': 0.2985,\n",
       "  'precipIntensityMax': 1.5599,\n",
       "  'precipIntensityMaxTime': 1561572000,\n",
       "  'precipProbability': 0.74,\n",
       "  'precipType': 'rain',\n",
       "  'temperatureHigh': 33.78,\n",
       "  'temperatureHighTime': 1561615200,\n",
       "  'temperatureLow': 26.55,\n",
       "  'temperatureLowTime': 1561669200,\n",
       "  'apparentTemperatureHigh': 40.83,\n",
       "  'apparentTemperatureHighTime': 1561615200,\n",
       "  'apparentTemperatureLow': 29.24,\n",
       "  'apparentTemperatureLowTime': 1561669200,\n",
       "  'dewPoint': 24.44,\n",
       "  'humidity': 0.73,\n",
       "  'pressure': 999.68,\n",
       "  'windSpeed': 2.62,\n",
       "  'windGust': 7.66,\n",
       "  'windGustTime': 1561633200,\n",
       "  'windBearing': 159,\n",
       "  'cloudCover': 0.95,\n",
       "  'uvIndex': 7,\n",
       "  'uvIndexTime': 1561608000,\n",
       "  'visibility': 16.093,\n",
       "  'ozone': 278.3,\n",
       "  'temperatureMin': 27.2,\n",
       "  'temperatureMinTime': 1561582800,\n",
       "  'temperatureMax': 33.78,\n",
       "  'temperatureMaxTime': 1561615200,\n",
       "  'apparentTemperatureMin': 30.53,\n",
       "  'apparentTemperatureMinTime': 1561582800,\n",
       "  'apparentTemperatureMax': 40.83,\n",
       "  'apparentTemperatureMaxTime': 1561615200},\n",
       " {'time': 1561651200,\n",
       "  'summary': 'Humid and mostly cloudy throughout the day.',\n",
       "  'icon': 'rain',\n",
       "  'sunriseTime': 1561671897,\n",
       "  'sunsetTime': 1561720665,\n",
       "  'moonPhase': 0.85,\n",
       "  'precipIntensity': 0.2659,\n",
       "  'precipIntensityMax': 2.1102,\n",
       "  'precipIntensityMaxTime': 1561712400,\n",
       "  'precipProbability': 0.55,\n",
       "  'precipType': 'rain',\n",
       "  'temperatureHigh': 34.13,\n",
       "  'temperatureHighTime': 1561701600,\n",
       "  'temperatureLow': 26.67,\n",
       "  'temperatureLowTime': 1561752000,\n",
       "  'apparentTemperatureHigh': 41.78,\n",
       "  'apparentTemperatureHighTime': 1561701600,\n",
       "  'apparentTemperatureLow': 29.62,\n",
       "  'apparentTemperatureLowTime': 1561752000,\n",
       "  'dewPoint': 24.61,\n",
       "  'humidity': 0.73,\n",
       "  'pressure': 999.13,\n",
       "  'windSpeed': 2.89,\n",
       "  'windGust': 7.61,\n",
       "  'windGustTime': 1561723200,\n",
       "  'windBearing': 154,\n",
       "  'cloudCover': 0.88,\n",
       "  'uvIndex': 6,\n",
       "  'uvIndexTime': 1561694400,\n",
       "  'visibility': 16.093,\n",
       "  'ozone': 277.7,\n",
       "  'temperatureMin': 26.55,\n",
       "  'temperatureMinTime': 1561669200,\n",
       "  'temperatureMax': 34.13,\n",
       "  'temperatureMaxTime': 1561701600,\n",
       "  'apparentTemperatureMin': 29.24,\n",
       "  'apparentTemperatureMinTime': 1561669200,\n",
       "  'apparentTemperatureMax': 41.78,\n",
       "  'apparentTemperatureMaxTime': 1561701600},\n",
       " {'time': 1561737600,\n",
       "  'summary': 'Humid and overcast throughout the day.',\n",
       "  'icon': 'rain',\n",
       "  'sunriseTime': 1561758314,\n",
       "  'sunsetTime': 1561807070,\n",
       "  'moonPhase': 0.88,\n",
       "  'precipIntensity': 0.0487,\n",
       "  'precipIntensityMax': 0.3284,\n",
       "  'precipIntensityMaxTime': 1561766400,\n",
       "  'precipProbability': 0.36,\n",
       "  'precipType': 'rain',\n",
       "  'temperatureHigh': 33.89,\n",
       "  'temperatureHighTime': 1561788000,\n",
       "  'temperatureLow': 27.47,\n",
       "  'temperatureLowTime': 1561842000,\n",
       "  'apparentTemperatureHigh': 41,\n",
       "  'apparentTemperatureHighTime': 1561791600,\n",
       "  'apparentTemperatureLow': 31.17,\n",
       "  'apparentTemperatureLowTime': 1561842000,\n",
       "  'dewPoint': 24.72,\n",
       "  'humidity': 0.73,\n",
       "  'pressure': 999.3,\n",
       "  'windSpeed': 2.98,\n",
       "  'windGust': 7.33,\n",
       "  'windGustTime': 1561816800,\n",
       "  'windBearing': 172,\n",
       "  'cloudCover': 1,\n",
       "  'uvIndex': 5,\n",
       "  'uvIndexTime': 1561784400,\n",
       "  'visibility': 16.063,\n",
       "  'ozone': 277.4,\n",
       "  'temperatureMin': 26.67,\n",
       "  'temperatureMinTime': 1561752000,\n",
       "  'temperatureMax': 33.89,\n",
       "  'temperatureMaxTime': 1561788000,\n",
       "  'apparentTemperatureMin': 29.62,\n",
       "  'apparentTemperatureMinTime': 1561752000,\n",
       "  'apparentTemperatureMax': 41,\n",
       "  'apparentTemperatureMaxTime': 1561791600},\n",
       " {'time': 1561824000,\n",
       "  'summary': 'Possible light rain in the morning.',\n",
       "  'icon': 'rain',\n",
       "  'sunriseTime': 1561844732,\n",
       "  'sunsetTime': 1561893475,\n",
       "  'moonPhase': 0.92,\n",
       "  'precipIntensity': 0.0599,\n",
       "  'precipIntensityMax': 0.2623,\n",
       "  'precipIntensityMaxTime': 1561852800,\n",
       "  'precipProbability': 0.55,\n",
       "  'precipType': 'rain',\n",
       "  'temperatureHigh': 35.32,\n",
       "  'temperatureHighTime': 1561878000,\n",
       "  'temperatureLow': 27.83,\n",
       "  'temperatureLowTime': 1561928400,\n",
       "  'apparentTemperatureHigh': 43.09,\n",
       "  'apparentTemperatureHighTime': 1561881600,\n",
       "  'apparentTemperatureLow': 32.26,\n",
       "  'apparentTemperatureLowTime': 1561928400,\n",
       "  'dewPoint': 24.53,\n",
       "  'humidity': 0.67,\n",
       "  'pressure': 998.46,\n",
       "  'windSpeed': 2.43,\n",
       "  'windGust': 6.56,\n",
       "  'windGustTime': 1561824000,\n",
       "  'windBearing': 197,\n",
       "  'cloudCover': 0.93,\n",
       "  'uvIndex': 6,\n",
       "  'uvIndexTime': 1561867200,\n",
       "  'visibility': 16.093,\n",
       "  'ozone': 273.2,\n",
       "  'temperatureMin': 27.47,\n",
       "  'temperatureMinTime': 1561842000,\n",
       "  'temperatureMax': 35.32,\n",
       "  'temperatureMaxTime': 1561878000,\n",
       "  'apparentTemperatureMin': 31.17,\n",
       "  'apparentTemperatureMinTime': 1561842000,\n",
       "  'apparentTemperatureMax': 43.09,\n",
       "  'apparentTemperatureMaxTime': 1561881600},\n",
       " {'time': 1561910400,\n",
       "  'summary': 'Rain until morning, starting again in the evening.',\n",
       "  'icon': 'rain',\n",
       "  'sunriseTime': 1561931151,\n",
       "  'sunsetTime': 1561979878,\n",
       "  'moonPhase': 0.95,\n",
       "  'precipIntensity': 0.9884,\n",
       "  'precipIntensityMax': 3.8388,\n",
       "  'precipIntensityMaxTime': 1561982400,\n",
       "  'precipProbability': 0.9,\n",
       "  'precipType': 'rain',\n",
       "  'temperatureHigh': 35.89,\n",
       "  'temperatureHighTime': 1561960800,\n",
       "  'temperatureLow': 26.53,\n",
       "  'temperatureLowTime': 1562011200,\n",
       "  'apparentTemperatureHigh': 43.79,\n",
       "  'apparentTemperatureHighTime': 1561960800,\n",
       "  'apparentTemperatureLow': 29.29,\n",
       "  'apparentTemperatureLowTime': 1562011200,\n",
       "  'dewPoint': 24.8,\n",
       "  'humidity': 0.69,\n",
       "  'pressure': 996.91,\n",
       "  'windSpeed': 2.46,\n",
       "  'windGust': 4.93,\n",
       "  'windGustTime': 1561996800,\n",
       "  'windBearing': 356,\n",
       "  'cloudCover': 0.88,\n",
       "  'uvIndex': 9,\n",
       "  'uvIndexTime': 1561953600,\n",
       "  'visibility': 15.498,\n",
       "  'ozone': 271.7,\n",
       "  'temperatureMin': 27.83,\n",
       "  'temperatureMinTime': 1561928400,\n",
       "  'temperatureMax': 35.89,\n",
       "  'temperatureMaxTime': 1561960800,\n",
       "  'apparentTemperatureMin': 32.26,\n",
       "  'apparentTemperatureMinTime': 1561928400,\n",
       "  'apparentTemperatureMax': 43.79,\n",
       "  'apparentTemperatureMaxTime': 1561960800}]"
      ]
     },
     "execution_count": 17,
     "metadata": {},
     "output_type": "execute_result"
    }
   ],
   "source": [
    "next_week_forcast = forecast['data'][1:9]\n",
    "next_week_forcast"
   ]
  },
  {
   "cell_type": "code",
   "execution_count": 18,
   "metadata": {},
   "outputs": [
    {
     "name": "stdout",
     "output_type": "stream",
     "text": [
      "For day 1 in the next week, the high temperature is 30.18°C.\n",
      "The weather is hot.\n",
      "--------------------------------------------------------\n",
      "For day 2 in the next week, the high temperature is 32.03°C.\n",
      "The weather is hot.\n",
      "--------------------------------------------------------\n",
      "For day 3 in the next week, the high temperature is 33.78°C.\n",
      "The weather is hot.\n",
      "--------------------------------------------------------\n",
      "For day 4 in the next week, the high temperature is 34.13°C.\n",
      "The weather is hot.\n",
      "--------------------------------------------------------\n",
      "For day 5 in the next week, the high temperature is 33.89°C.\n",
      "The weather is hot.\n",
      "--------------------------------------------------------\n",
      "For day 6 in the next week, the high temperature is 35.32°C.\n",
      "The weather is hot.\n",
      "--------------------------------------------------------\n",
      "For day 7 in the next week, the high temperature is 35.89°C.\n",
      "The weather is hot.\n",
      "--------------------------------------------------------\n"
     ]
    }
   ],
   "source": [
    "for day in next_week_forcast: \n",
    "    print(f\"For day {next_week_forcast.index(day) + 1} in the next week, the high temperature is {day['temperatureHigh']}°C.\")\n",
    "    if day['temperatureHigh'] > 30:\n",
    "        print(\"The weather is hot.\")\n",
    "    elif day['temperatureHigh'] > 20:\n",
    "        print(\"The weather is warm.\")\n",
    "    else:\n",
    "        print(\"The weather is cold.\")\n",
    "    print(\"--------------------------------------------------------\")\n",
    "\n",
    "            "
   ]
  },
  {
   "cell_type": "markdown",
   "metadata": {},
   "source": [
    "# 6) What will be the hottest day in the next week? What is the high temperature on that day?\n",
    "\n",
    "It's okay if your result looks like `1453363200`. If you want to be extra-fancy, though, format it as a **real date** - the weird number is called a **UNIX timestamp**, which might help in googling.\n",
    "\n",
    "- *Tip: It's okay to skip this if it seems too difficult!*"
   ]
  },
  {
   "cell_type": "code",
   "execution_count": 19,
   "metadata": {},
   "outputs": [
    {
     "name": "stdout",
     "output_type": "stream",
     "text": [
      "The hottest day in the next week would be 2019-06-30, and the high temperature of that date is 35.89.\n"
     ]
    }
   ],
   "source": [
    "date_htemp = {}\n",
    "hottest_temp = 0\n",
    "\n",
    "for day in next_week_forcast:\n",
    "    date_htemp[day['temperatureHigh']] = day['time']\n",
    "    if day['temperatureHigh'] > hottest_temp:\n",
    "        hottest_temp = day['temperatureHigh']\n",
    "\n",
    "hottest_date = date_htemp[hottest_temp]\n",
    "\n",
    "#https://docs.python.org/2/library/datetime.html#strftime-and-strptime-behavior\n",
    "# (datetime.date.fromtimestamp(date))   \n",
    "hottest_date = datetime.date.fromtimestamp(hottest_date)\n",
    "\n",
    "print(f\"The hottest day in the next week would be {hottest_date}, and the high temperature of that date is {hottest_temp}.\")\n",
    "\n"
   ]
  },
  {
   "cell_type": "code",
   "execution_count": null,
   "metadata": {},
   "outputs": [],
   "source": []
  },
  {
   "cell_type": "code",
   "execution_count": null,
   "metadata": {},
   "outputs": [],
   "source": []
  },
  {
   "cell_type": "markdown",
   "metadata": {},
   "source": [
    "## 7) What's the weather looking like for the next 24+ hours in Miami, Florida?\n",
    "\n",
    "I'd like to know the temperature for every hour, and if it's going to have cloud cover of more than 50% say \"{temperature} and cloudy\" instead of just the temperature. \n",
    "\n",
    "\n",
    "- *Tip: Be sure to remember how latitude and longitude are done with positive and negative numbers*\n",
    "- *Tip: How do you represent \"50%\" for cloud cover?*"
   ]
  },
  {
   "cell_type": "code",
   "execution_count": 20,
   "metadata": {},
   "outputs": [],
   "source": [
    "response = requests.get(f'https://api.darksky.net/forecast/{API_KEY}/25.7617,-80.1918')"
   ]
  },
  {
   "cell_type": "code",
   "execution_count": 21,
   "metadata": {},
   "outputs": [],
   "source": [
    "miami = response.json()"
   ]
  },
  {
   "cell_type": "code",
   "execution_count": 22,
   "metadata": {},
   "outputs": [
    {
     "data": {
      "text/plain": [
       "dict_keys(['time', 'summary', 'icon', 'precipIntensity', 'precipProbability', 'precipType', 'temperature', 'apparentTemperature', 'dewPoint', 'humidity', 'pressure', 'windSpeed', 'windGust', 'windBearing', 'cloudCover', 'uvIndex', 'visibility', 'ozone'])"
      ]
     },
     "execution_count": 22,
     "metadata": {},
     "output_type": "execute_result"
    }
   ],
   "source": [
    "miami_hourly = miami['hourly']['data']\n",
    "miami_next_24hrs = miami_hourly[1:25]\n",
    "miami_next_24hrs[0].keys()"
   ]
  },
  {
   "cell_type": "code",
   "execution_count": 23,
   "metadata": {},
   "outputs": [
    {
     "name": "stdout",
     "output_type": "stream",
     "text": [
      "1 hour from now, in Miami, Florida, it would be 91.72°F.\n",
      "2 hours from now, in Miami, Florida, it would be 91.13°F.\n",
      "3 hours from now, in Miami, Florida, it would be 89.61°F.\n",
      "4 hours from now, in Miami, Florida, it would be 88.03°F.\n",
      "5 hours from now, in Miami, Florida, it would be 86.01°F.\n",
      "6 hours from now, in Miami, Florida, it would be 85.55°F.\n",
      "7 hours from now, in Miami, Florida, it would be 84.45°F and cloudy.\n",
      "8 hours from now, in Miami, Florida, it would be 83.55°F.\n",
      "9 hours from now, in Miami, Florida, it would be 82.99°F.\n",
      "10 hours from now, in Miami, Florida, it would be 82.29°F.\n",
      "11 hours from now, in Miami, Florida, it would be 81.69°F.\n",
      "12 hours from now, in Miami, Florida, it would be 81.35°F.\n",
      "13 hours from now, in Miami, Florida, it would be 81.54°F.\n",
      "14 hours from now, in Miami, Florida, it would be 81.11°F.\n",
      "15 hours from now, in Miami, Florida, it would be 80.46°F.\n",
      "16 hours from now, in Miami, Florida, it would be 79.93°F.\n",
      "17 hours from now, in Miami, Florida, it would be 79.68°F.\n",
      "18 hours from now, in Miami, Florida, it would be 79.96°F.\n",
      "19 hours from now, in Miami, Florida, it would be 81.13°F.\n",
      "20 hours from now, in Miami, Florida, it would be 83.47°F.\n",
      "21 hours from now, in Miami, Florida, it would be 86.64°F.\n",
      "22 hours from now, in Miami, Florida, it would be 88.65°F.\n",
      "23 hours from now, in Miami, Florida, it would be 90.03°F.\n",
      "24 hours from now, in Miami, Florida, it would be 91.17°F.\n"
     ]
    }
   ],
   "source": [
    "\n",
    "for hour in miami_next_24hrs:    \n",
    "    if (miami_next_24hrs.index(hour)) > 0 and (hour['cloudCover']) > 0.5:\n",
    "        print(f\"{(miami_next_24hrs.index(hour) + 1)} hours from now, in Miami, Florida, it would be {hour['temperature']}°F and cloudy.\")\n",
    "    elif (miami_next_24hrs.index(hour)) > 0 and (hour['cloudCover']) <= 0.5:\n",
    "        print(f\"{(miami_next_24hrs.index(hour) + 1)} hours from now, in Miami, Florida, it would be {hour['temperature']}°F.\")\n",
    "    elif (miami_next_24hrs.index(hour)) == 0 and (hour['cloudCover']) > 0.5:\n",
    "        print(f\"{(miami_next_24hrs.index(hour) + 1)} hour from now, in Miami, Florida, it would be {hour['temperature']}°F and cloudy.\")\n",
    "    else:\n",
    "        print(f\"{(miami_next_24hrs.index(hour) + 1)} hour from now, in Miami, Florida, it would be {hour['temperature']}°F.\")\n",
    "              \n",
    "              "
   ]
  },
  {
   "cell_type": "markdown",
   "metadata": {},
   "source": [
    "# 8) For the next 24-ish hours in Miami, what percent of the time is the temperature above 85 degrees?\n",
    "\n",
    "If they give you 48 hours instead of 24, that's okay.\n",
    "\n",
    "- *Tip: You might want to read up on [looping patterns](http://jonathansoma.com/lede/foundations-2017/classes/data%20structures/looping-patterns/)*"
   ]
  },
  {
   "cell_type": "code",
   "execution_count": 24,
   "metadata": {},
   "outputs": [
    {
     "name": "stdout",
     "output_type": "stream",
     "text": [
      "For the next 24-ish hours in Miami, 41.67% of time is above 85 degrees.\n"
     ]
    }
   ],
   "source": [
    "count = 0\n",
    "\n",
    "for hour in miami_next_24hrs:\n",
    "    if hour['temperature'] > 85:\n",
    "        count = count + 1\n",
    "\n",
    "print(f\"For the next 24-ish hours in Miami, {(count/24):.2%} of time is above 85 degrees.\")"
   ]
  },
  {
   "cell_type": "code",
   "execution_count": null,
   "metadata": {},
   "outputs": [],
   "source": []
  },
  {
   "cell_type": "code",
   "execution_count": null,
   "metadata": {},
   "outputs": [],
   "source": []
  },
  {
   "cell_type": "code",
   "execution_count": null,
   "metadata": {},
   "outputs": [],
   "source": []
  },
  {
   "cell_type": "markdown",
   "metadata": {},
   "source": [
    "## 9) What was the temperature in Central Park on Christmas Day, 2012? How about 2007? 2005? How far back does the API allow you to go?\n",
    "\n",
    "- *Tip: You'll need to use UNIX time, which is the number of seconds since January 1, 1970. Google can help you convert a normal date!*\n",
    "- *Tip: You'll want to use Forecast.io's \"time machine\" API, [documentation here](https://darksky.net/dev/docs/time-machine)*"
   ]
  },
  {
   "cell_type": "code",
   "execution_count": 25,
   "metadata": {},
   "outputs": [],
   "source": [
    "christmas_2012 = 1356411600\n",
    "christmas_2007 = 1198558800\n",
    "christmas_2005 = 1135486800"
   ]
  },
  {
   "cell_type": "code",
   "execution_count": 26,
   "metadata": {},
   "outputs": [],
   "source": [
    "central_park_coord = \"40.7829,-73.9654\""
   ]
  },
  {
   "cell_type": "code",
   "execution_count": 27,
   "metadata": {},
   "outputs": [
    {
     "name": "stdout",
     "output_type": "stream",
     "text": [
      "In Central Park on Christmas Day, 2012, the weather was drizzle in the morning, with a high of 40.28°F and a a low of 32.49°F.\n"
     ]
    }
   ],
   "source": [
    "response = requests.get(f\"https://api.darksky.net/forecast/{API_KEY}/{central_park_coord},{christmas_2012}\")\n",
    "cp_christmas_2012_weather = response.json()\n",
    "cp_christmas_2012_weather_summary = cp_christmas_2012_weather['daily']['data'][0]['summary'].replace(\".\", \"\")\n",
    "cp_christmas_2012_temp = cp_christmas_2012_weather['hourly']['data'][0:24]\n",
    "\n",
    "temp2012 = []\n",
    "for hour in cp_christmas_2012_temp:\n",
    "    temp2012.append(hour['temperature'])\n",
    "\n",
    "print(f\"In Central Park on Christmas Day, 2012, the weather was {cp_christmas_2012_weather_summary.lower()}, with a high of {max(temp2012)}°F and a a low of {min(temp2012)}°F.\")\n",
    "    \n",
    "    "
   ]
  },
  {
   "cell_type": "code",
   "execution_count": 28,
   "metadata": {},
   "outputs": [
    {
     "name": "stdout",
     "output_type": "stream",
     "text": [
      "In Central Park on Christmas Day, 2007, the weather was partly cloudy throughout the day, with a high of 42.33°F and a a low of 33.24°F.\n"
     ]
    }
   ],
   "source": [
    "response = requests.get(f\"https://api.darksky.net/forecast/{API_KEY}/{central_park_coord},{christmas_2007}\")\n",
    "cp_christmas_2007_weather = response.json()\n",
    "cp_christmas_2007_weather_summary = cp_christmas_2007_weather['daily']['data'][0]['summary'].replace(\".\", \"\")\n",
    "cp_christmas_2007_temp = cp_christmas_2007_weather['hourly']['data'][0:24]\n",
    "\n",
    "temp2007 = []\n",
    "for hour in cp_christmas_2007_temp:\n",
    "    temp2007.append(hour['temperature'])\n",
    "\n",
    "print(f\"In Central Park on Christmas Day, 2007, the weather was {cp_christmas_2007_weather_summary.lower()}, with a high of {max(temp2007)}°F and a a low of {min(temp2007)}°F.\")\n",
    "    \n",
    "    "
   ]
  },
  {
   "cell_type": "code",
   "execution_count": 29,
   "metadata": {},
   "outputs": [
    {
     "name": "stdout",
     "output_type": "stream",
     "text": [
      "In Central Park on Christmas Day, 2005, the weather was rain starting in the afternoon, with a high of 49.63°F and a a low of 35.05°F.\n"
     ]
    }
   ],
   "source": [
    "response = requests.get(f\"https://api.darksky.net/forecast/{API_KEY}/{central_park_coord},{christmas_2005}\")\n",
    "cp_christmas_2005_weather = response.json()\n",
    "cp_christmas_2005_weather_summary = cp_christmas_2005_weather['daily']['data'][0]['summary'].replace(\".\", \"\")\n",
    "cp_christmas_2005_temp = cp_christmas_2005_weather['hourly']['data'][0:24]\n",
    "\n",
    "temp2005 = []\n",
    "for hour in cp_christmas_2005_temp:\n",
    "    temp2005.append(hour['temperature'])\n",
    "\n",
    "print(f\"In Central Park on Christmas Day, 2005, the weather was {cp_christmas_2005_weather_summary.lower()}, with a high of {max(temp2005)}°F and a a low of {min(temp2005)}°F.\")\n",
    "    \n",
    "    "
   ]
  },
  {
   "cell_type": "code",
   "execution_count": 30,
   "metadata": {},
   "outputs": [],
   "source": [
    "# With UNIX timestamp, the time machine can only go back up as far as January 1, 1970."
   ]
  }
 ],
 "metadata": {
  "kernelspec": {
   "display_name": "Python 3",
   "language": "python",
   "name": "python3"
  },
  "language_info": {
   "codemirror_mode": {
    "name": "ipython",
    "version": 3
   },
   "file_extension": ".py",
   "mimetype": "text/x-python",
   "name": "python",
   "nbconvert_exporter": "python",
   "pygments_lexer": "ipython3",
   "version": "3.6.5"
  }
 },
 "nbformat": 4,
 "nbformat_minor": 1
}

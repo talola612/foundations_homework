{
 "cells": [
  {
   "cell_type": "markdown",
   "metadata": {},
   "source": [
    "# SWAPI (Star Wars)\n",
    "\n",
    "Answer the following questions using the [Star Wars](https://swapi.co/). I've added three cells for each question but you're free to use more or less! Hold `Shift` and hit `Enter` to run a cell, and use the `+` on the top left to add a new cell to a notebook.\n",
    "\n",
    "If you spend some time reading the documentation your life will probably be a little bit easier!\n",
    "\n",
    "## 0) Import any libraries you might need\n",
    "\n",
    "- *Tip: We're going to be downloading things from the internet, so we probably need `requests`.*"
   ]
  },
  {
   "cell_type": "code",
   "execution_count": 1,
   "metadata": {},
   "outputs": [],
   "source": [
    "import requests"
   ]
  },
  {
   "cell_type": "code",
   "execution_count": null,
   "metadata": {},
   "outputs": [],
   "source": []
  },
  {
   "cell_type": "code",
   "execution_count": null,
   "metadata": {},
   "outputs": [],
   "source": []
  },
  {
   "cell_type": "markdown",
   "metadata": {},
   "source": [
    "## 1) Make a request to the Star Wars API\n",
    "\n",
    "I've heard there's a new Star Wars film called **Solo**, but it isn't in SWAPI!\n",
    "\n",
    "The most recent film it contains has an ID of 7. Make a request for that film and look at the data."
   ]
  },
  {
   "cell_type": "code",
   "execution_count": 2,
   "metadata": {},
   "outputs": [],
   "source": [
    "response = requests.get('https://swapi.co/api/films/7/')"
   ]
  },
  {
   "cell_type": "code",
   "execution_count": 3,
   "metadata": {},
   "outputs": [],
   "source": [
    "films = response.json()"
   ]
  },
  {
   "cell_type": "code",
   "execution_count": 4,
   "metadata": {},
   "outputs": [
    {
     "data": {
      "text/plain": [
       "{'title': 'The Force Awakens',\n",
       " 'episode_id': 7,\n",
       " 'opening_crawl': \"Luke Skywalker has vanished.\\r\\nIn his absence, the sinister\\r\\nFIRST ORDER has risen from\\r\\nthe ashes of the Empire\\r\\nand will not rest until\\r\\nSkywalker, the last Jedi,\\r\\nhas been destroyed.\\r\\n \\r\\nWith the support of the\\r\\nREPUBLIC, General Leia Organa\\r\\nleads a brave RESISTANCE.\\r\\nShe is desperate to find her\\r\\nbrother Luke and gain his\\r\\nhelp in restoring peace and\\r\\njustice to the galaxy.\\r\\n \\r\\nLeia has sent her most daring\\r\\npilot on a secret mission\\r\\nto Jakku, where an old ally\\r\\nhas discovered a clue to\\r\\nLuke's whereabouts....\",\n",
       " 'director': 'J. J. Abrams',\n",
       " 'producer': 'Kathleen Kennedy, J. J. Abrams, Bryan Burk',\n",
       " 'release_date': '2015-12-11',\n",
       " 'characters': ['https://swapi.co/api/people/1/',\n",
       "  'https://swapi.co/api/people/3/',\n",
       "  'https://swapi.co/api/people/5/',\n",
       "  'https://swapi.co/api/people/13/',\n",
       "  'https://swapi.co/api/people/14/',\n",
       "  'https://swapi.co/api/people/27/',\n",
       "  'https://swapi.co/api/people/84/',\n",
       "  'https://swapi.co/api/people/85/',\n",
       "  'https://swapi.co/api/people/86/',\n",
       "  'https://swapi.co/api/people/87/',\n",
       "  'https://swapi.co/api/people/88/'],\n",
       " 'planets': ['https://swapi.co/api/planets/61/'],\n",
       " 'starships': ['https://swapi.co/api/starships/77/',\n",
       "  'https://swapi.co/api/starships/10/'],\n",
       " 'vehicles': [],\n",
       " 'species': ['https://swapi.co/api/species/3/',\n",
       "  'https://swapi.co/api/species/2/',\n",
       "  'https://swapi.co/api/species/1/'],\n",
       " 'created': '2015-04-17T06:51:30.504780Z',\n",
       " 'edited': '2015-12-17T14:31:47.617768Z',\n",
       " 'url': 'https://swapi.co/api/films/7/'}"
      ]
     },
     "execution_count": 4,
     "metadata": {},
     "output_type": "execute_result"
    }
   ],
   "source": [
    "films"
   ]
  },
  {
   "cell_type": "markdown",
   "metadata": {},
   "source": [
    "## 2) What is that film's name, and when was it released?\n",
    "\n",
    "Please print **only** the title and the release date. You can guess at the keys, but I recommend checking the documentation."
   ]
  },
  {
   "cell_type": "code",
   "execution_count": 5,
   "metadata": {},
   "outputs": [
    {
     "data": {
      "text/plain": [
       "dict_keys(['title', 'episode_id', 'opening_crawl', 'director', 'producer', 'release_date', 'characters', 'planets', 'starships', 'vehicles', 'species', 'created', 'edited', 'url'])"
      ]
     },
     "execution_count": 5,
     "metadata": {},
     "output_type": "execute_result"
    }
   ],
   "source": [
    "films.keys()"
   ]
  },
  {
   "cell_type": "code",
   "execution_count": 6,
   "metadata": {},
   "outputs": [
    {
     "name": "stdout",
     "output_type": "stream",
     "text": [
      "The Force Awakens\n"
     ]
    }
   ],
   "source": [
    "print(films['title'])"
   ]
  },
  {
   "cell_type": "code",
   "execution_count": 7,
   "metadata": {},
   "outputs": [
    {
     "name": "stdout",
     "output_type": "stream",
     "text": [
      "2015-12-11\n"
     ]
    }
   ],
   "source": [
    "print(films['release_date'])"
   ]
  },
  {
   "cell_type": "markdown",
   "metadata": {},
   "source": [
    "## 3) But I want Han Solo! Use the API to search for people named \"Solo\"."
   ]
  },
  {
   "cell_type": "code",
   "execution_count": 8,
   "metadata": {},
   "outputs": [
    {
     "name": "stdout",
     "output_type": "stream",
     "text": [
      "Requirement already satisfied: swapi in /Users/tbi/.pyenv/versions/3.6.5/lib/python3.6/site-packages\n",
      "Requirement already satisfied: requests==2.5.0 in /Users/tbi/.pyenv/versions/3.6.5/lib/python3.6/site-packages (from swapi)\n",
      "Requirement already satisfied: ujson==1.33 in /Users/tbi/.pyenv/versions/3.6.5/lib/python3.6/site-packages (from swapi)\n",
      "Requirement already satisfied: six==1.8.0 in /Users/tbi/.pyenv/versions/3.6.5/lib/python3.6/site-packages (from swapi)\n",
      "\u001b[33mYou are using pip version 9.0.3, however version 19.1.1 is available.\n",
      "You should consider upgrading via the 'pip install --upgrade pip' command.\u001b[0m\n"
     ]
    }
   ],
   "source": [
    "!pip install swapi"
   ]
  },
  {
   "cell_type": "code",
   "execution_count": 9,
   "metadata": {},
   "outputs": [
    {
     "name": "stdout",
     "output_type": "stream",
     "text": [
      "{'count': 1, 'next': None, 'previous': None, 'results': [{'name': 'Han Solo', 'height': '180', 'mass': '80', 'hair_color': 'brown', 'skin_color': 'fair', 'eye_color': 'brown', 'birth_year': '29BBY', 'gender': 'male', 'homeworld': 'https://swapi.co/api/planets/22/', 'films': ['https://swapi.co/api/films/2/', 'https://swapi.co/api/films/3/', 'https://swapi.co/api/films/1/', 'https://swapi.co/api/films/7/'], 'species': ['https://swapi.co/api/species/1/'], 'vehicles': [], 'starships': ['https://swapi.co/api/starships/10/', 'https://swapi.co/api/starships/22/'], 'created': '2014-12-10T16:49:14.582000Z', 'edited': '2014-12-20T21:17:50.334000Z', 'url': 'https://swapi.co/api/people/14/'}]}\n"
     ]
    }
   ],
   "source": [
    "response = requests.get('https://swapi.co/api/people/?search=Solo')\n",
    "solo = response.json()\n",
    "print(solo)"
   ]
  },
  {
   "cell_type": "code",
   "execution_count": null,
   "metadata": {},
   "outputs": [],
   "source": []
  },
  {
   "cell_type": "markdown",
   "metadata": {},
   "source": [
    "## 4) How many results did you get?\n",
    "\n",
    "Show **two different ways** of displaying this number.\n",
    "\n",
    "- *Tip: One uses the API, and one uses a Python function*"
   ]
  },
  {
   "cell_type": "code",
   "execution_count": 10,
   "metadata": {},
   "outputs": [
    {
     "data": {
      "text/plain": [
       "1"
      ]
     },
     "execution_count": 10,
     "metadata": {},
     "output_type": "execute_result"
    }
   ],
   "source": [
    "len(solo['results'])"
   ]
  },
  {
   "cell_type": "code",
   "execution_count": 11,
   "metadata": {},
   "outputs": [
    {
     "data": {
      "text/plain": [
       "'{\"count\":1,\"next\":null,\"previous\":null,\"results\":[{\"name\":\"Han Solo\",\"height\":\"180\",\"mass\":\"80\",\"hair_color\":\"brown\",\"skin_color\":\"fair\",\"eye_color\":\"brown\",\"birth_year\":\"29BBY\",\"gender\":\"male\",\"homeworld\":\"https://swapi.co/api/planets/22/\",\"films\":[\"https://swapi.co/api/films/2/\",\"https://swapi.co/api/films/3/\",\"https://swapi.co/api/films/1/\",\"https://swapi.co/api/films/7/\"],\"species\":[\"https://swapi.co/api/species/1/\"],\"vehicles\":[],\"starships\":[\"https://swapi.co/api/starships/10/\",\"https://swapi.co/api/starships/22/\"],\"created\":\"2014-12-10T16:49:14.582000Z\",\"edited\":\"2014-12-20T21:17:50.334000Z\",\"url\":\"https://swapi.co/api/people/14/\"}]}'"
      ]
     },
     "execution_count": 11,
     "metadata": {},
     "output_type": "execute_result"
    }
   ],
   "source": [
    "response.text"
   ]
  },
  {
   "cell_type": "code",
   "execution_count": 12,
   "metadata": {},
   "outputs": [
    {
     "data": {
      "text/plain": [
       "1"
      ]
     },
     "execution_count": 12,
     "metadata": {},
     "output_type": "execute_result"
    }
   ],
   "source": [
    "solo['count']"
   ]
  },
  {
   "cell_type": "markdown",
   "metadata": {},
   "source": [
    "## 5) Write me a sentence about Han Solo\n",
    "\n",
    "Your sentence should be say `\"____ has _____ hair, is _____cm tall and weighs ____kg.\"` - make sure you have **no spcaes** between the numbers and `cm`/`kg`."
   ]
  },
  {
   "cell_type": "code",
   "execution_count": 13,
   "metadata": {},
   "outputs": [
    {
     "name": "stdout",
     "output_type": "stream",
     "text": [
      "{'name': 'Han Solo', 'height': '180', 'mass': '80', 'hair_color': 'brown', 'skin_color': 'fair', 'eye_color': 'brown', 'birth_year': '29BBY', 'gender': 'male', 'homeworld': 'https://swapi.co/api/planets/22/', 'films': ['https://swapi.co/api/films/2/', 'https://swapi.co/api/films/3/', 'https://swapi.co/api/films/1/', 'https://swapi.co/api/films/7/'], 'species': ['https://swapi.co/api/species/1/'], 'vehicles': [], 'starships': ['https://swapi.co/api/starships/10/', 'https://swapi.co/api/starships/22/'], 'created': '2014-12-10T16:49:14.582000Z', 'edited': '2014-12-20T21:17:50.334000Z', 'url': 'https://swapi.co/api/people/14/'}\n"
     ]
    }
   ],
   "source": [
    "solo_results = solo['results']\n",
    "solo_results = solo_results[0]\n",
    "print(solo_results)"
   ]
  },
  {
   "cell_type": "code",
   "execution_count": 14,
   "metadata": {},
   "outputs": [
    {
     "name": "stdout",
     "output_type": "stream",
     "text": [
      "Han Solo has brown hair, is 180cm tall and 80kg.\n"
     ]
    }
   ],
   "source": [
    "print(f\"{solo_results['name']} has {solo_results['hair_color']} hair, is {solo_results['height']}cm tall and {solo_results['mass']}kg.\")\n",
    "\n",
    "\n",
    "\n",
    "\n",
    "      \n",
    "      \n",
    "      \n",
    "      \n",
    "      "
   ]
  },
  {
   "cell_type": "code",
   "execution_count": null,
   "metadata": {},
   "outputs": [],
   "source": []
  },
  {
   "cell_type": "markdown",
   "metadata": {},
   "source": [
    "## 5) Search for C-3PO"
   ]
  },
  {
   "cell_type": "code",
   "execution_count": 15,
   "metadata": {},
   "outputs": [],
   "source": [
    "response = requests.get('https://swapi.co/api/people/?search=C-3PO')"
   ]
  },
  {
   "cell_type": "code",
   "execution_count": 16,
   "metadata": {},
   "outputs": [],
   "source": [
    "c3po = response.json()"
   ]
  },
  {
   "cell_type": "code",
   "execution_count": 17,
   "metadata": {},
   "outputs": [
    {
     "name": "stdout",
     "output_type": "stream",
     "text": [
      "{'count': 1, 'next': None, 'previous': None, 'results': [{'name': 'C-3PO', 'height': '167', 'mass': '75', 'hair_color': 'n/a', 'skin_color': 'gold', 'eye_color': 'yellow', 'birth_year': '112BBY', 'gender': 'n/a', 'homeworld': 'https://swapi.co/api/planets/1/', 'films': ['https://swapi.co/api/films/2/', 'https://swapi.co/api/films/5/', 'https://swapi.co/api/films/4/', 'https://swapi.co/api/films/6/', 'https://swapi.co/api/films/3/', 'https://swapi.co/api/films/1/'], 'species': ['https://swapi.co/api/species/2/'], 'vehicles': [], 'starships': [], 'created': '2014-12-10T15:10:51.357000Z', 'edited': '2014-12-20T21:17:50.309000Z', 'url': 'https://swapi.co/api/people/2/'}]}\n"
     ]
    }
   ],
   "source": [
    "print(c3po)"
   ]
  },
  {
   "cell_type": "markdown",
   "metadata": {},
   "source": [
    "## 6) What URL can tell me more about his species? Make a request to the corrent endpoint.\n",
    "\n",
    "Spoiler: he's a **droid**. Are robots a species? I guess so, maybe."
   ]
  },
  {
   "cell_type": "code",
   "execution_count": 18,
   "metadata": {},
   "outputs": [],
   "source": [
    "c3po_results = c3po['results']\n",
    "c3po_results = c3po_results[0]"
   ]
  },
  {
   "cell_type": "code",
   "execution_count": 19,
   "metadata": {},
   "outputs": [
    {
     "name": "stdout",
     "output_type": "stream",
     "text": [
      "['https://swapi.co/api/species/2/']\n"
     ]
    }
   ],
   "source": [
    "print(c3po_results['species'])"
   ]
  },
  {
   "cell_type": "code",
   "execution_count": 20,
   "metadata": {},
   "outputs": [
    {
     "data": {
      "text/plain": [
       "{'name': 'Droid',\n",
       " 'classification': 'artificial',\n",
       " 'designation': 'sentient',\n",
       " 'average_height': 'n/a',\n",
       " 'skin_colors': 'n/a',\n",
       " 'hair_colors': 'n/a',\n",
       " 'eye_colors': 'n/a',\n",
       " 'average_lifespan': 'indefinite',\n",
       " 'homeworld': None,\n",
       " 'language': 'n/a',\n",
       " 'people': ['https://swapi.co/api/people/2/',\n",
       "  'https://swapi.co/api/people/3/',\n",
       "  'https://swapi.co/api/people/8/',\n",
       "  'https://swapi.co/api/people/23/',\n",
       "  'https://swapi.co/api/people/87/'],\n",
       " 'films': ['https://swapi.co/api/films/2/',\n",
       "  'https://swapi.co/api/films/7/',\n",
       "  'https://swapi.co/api/films/5/',\n",
       "  'https://swapi.co/api/films/4/',\n",
       "  'https://swapi.co/api/films/6/',\n",
       "  'https://swapi.co/api/films/3/',\n",
       "  'https://swapi.co/api/films/1/'],\n",
       " 'created': '2014-12-10T15:16:16.259000Z',\n",
       " 'edited': '2015-04-17T06:59:43.869528Z',\n",
       " 'url': 'https://swapi.co/api/species/2/'}"
      ]
     },
     "execution_count": 20,
     "metadata": {},
     "output_type": "execute_result"
    }
   ],
   "source": [
    "response = requests.get('https://swapi.co/api/species/2/')\n",
    "c3po_species = response.json()\n",
    "c3po_species"
   ]
  },
  {
   "cell_type": "markdown",
   "metadata": {},
   "source": [
    "## 7) Print out the URL of every droid\n",
    "\n",
    "* *Tip: life will be easier if you don't say `for droid in...` or `for person in` because you aren't looping through droids or people. What are you looping through?*"
   ]
  },
  {
   "cell_type": "code",
   "execution_count": 21,
   "metadata": {},
   "outputs": [
    {
     "name": "stdout",
     "output_type": "stream",
     "text": [
      "https://swapi.co/api/people/2/\n",
      "https://swapi.co/api/people/3/\n",
      "https://swapi.co/api/people/8/\n",
      "https://swapi.co/api/people/23/\n",
      "https://swapi.co/api/people/87/\n"
     ]
    }
   ],
   "source": [
    "droid_urls = []\n",
    "for people in c3po_species['people']:\n",
    "    droid_urls.append(people)\n",
    "    print(people)"
   ]
  },
  {
   "cell_type": "code",
   "execution_count": null,
   "metadata": {},
   "outputs": [],
   "source": []
  },
  {
   "cell_type": "code",
   "execution_count": null,
   "metadata": {},
   "outputs": [],
   "source": []
  },
  {
   "cell_type": "markdown",
   "metadata": {},
   "source": [
    "## 8) Print out the name of every droid\n",
    "\n",
    "* *Tip: You should start from the last answer, but add more stuff in!*\n",
    "* *Tip: You'll need to make a request every time you're in the loop*\n",
    "* *Tip: Be careful - f you re-use the variable name `data` you'll erase your old `data` variable*"
   ]
  },
  {
   "cell_type": "code",
   "execution_count": 22,
   "metadata": {},
   "outputs": [
    {
     "name": "stdout",
     "output_type": "stream",
     "text": [
      "[{'name': 'C-3PO', 'height': '167', 'mass': '75', 'hair_color': 'n/a', 'skin_color': 'gold', 'eye_color': 'yellow', 'birth_year': '112BBY', 'gender': 'n/a', 'homeworld': 'https://swapi.co/api/planets/1/', 'films': ['https://swapi.co/api/films/2/', 'https://swapi.co/api/films/5/', 'https://swapi.co/api/films/4/', 'https://swapi.co/api/films/6/', 'https://swapi.co/api/films/3/', 'https://swapi.co/api/films/1/'], 'species': ['https://swapi.co/api/species/2/'], 'vehicles': [], 'starships': [], 'created': '2014-12-10T15:10:51.357000Z', 'edited': '2014-12-20T21:17:50.309000Z', 'url': 'https://swapi.co/api/people/2/'}, {'name': 'R2-D2', 'height': '96', 'mass': '32', 'hair_color': 'n/a', 'skin_color': 'white, blue', 'eye_color': 'red', 'birth_year': '33BBY', 'gender': 'n/a', 'homeworld': 'https://swapi.co/api/planets/8/', 'films': ['https://swapi.co/api/films/2/', 'https://swapi.co/api/films/5/', 'https://swapi.co/api/films/4/', 'https://swapi.co/api/films/6/', 'https://swapi.co/api/films/3/', 'https://swapi.co/api/films/1/', 'https://swapi.co/api/films/7/'], 'species': ['https://swapi.co/api/species/2/'], 'vehicles': [], 'starships': [], 'created': '2014-12-10T15:11:50.376000Z', 'edited': '2014-12-20T21:17:50.311000Z', 'url': 'https://swapi.co/api/people/3/'}, {'name': 'R5-D4', 'height': '97', 'mass': '32', 'hair_color': 'n/a', 'skin_color': 'white, red', 'eye_color': 'red', 'birth_year': 'unknown', 'gender': 'n/a', 'homeworld': 'https://swapi.co/api/planets/1/', 'films': ['https://swapi.co/api/films/1/'], 'species': ['https://swapi.co/api/species/2/'], 'vehicles': [], 'starships': [], 'created': '2014-12-10T15:57:50.959000Z', 'edited': '2014-12-20T21:17:50.321000Z', 'url': 'https://swapi.co/api/people/8/'}, {'name': 'IG-88', 'height': '200', 'mass': '140', 'hair_color': 'none', 'skin_color': 'metal', 'eye_color': 'red', 'birth_year': '15BBY', 'gender': 'none', 'homeworld': 'https://swapi.co/api/planets/28/', 'films': ['https://swapi.co/api/films/2/'], 'species': ['https://swapi.co/api/species/2/'], 'vehicles': [], 'starships': [], 'created': '2014-12-15T12:51:10.076000Z', 'edited': '2014-12-20T21:17:50.351000Z', 'url': 'https://swapi.co/api/people/23/'}, {'name': 'BB8', 'height': 'unknown', 'mass': 'unknown', 'hair_color': 'none', 'skin_color': 'none', 'eye_color': 'black', 'birth_year': 'unknown', 'gender': 'none', 'homeworld': 'https://swapi.co/api/planets/28/', 'films': ['https://swapi.co/api/films/7/'], 'species': ['https://swapi.co/api/species/2/'], 'vehicles': [], 'starships': [], 'created': '2015-04-17T06:57:38.061346Z', 'edited': '2015-04-17T06:57:38.061453Z', 'url': 'https://swapi.co/api/people/87/'}]\n"
     ]
    }
   ],
   "source": [
    "droid_data = []\n",
    "for droid in droid_urls:\n",
    "    response = requests.get(droid)\n",
    "    droid_data.append(response.json())\n",
    "    \n",
    "print(droid_data)    "
   ]
  },
  {
   "cell_type": "code",
   "execution_count": 23,
   "metadata": {},
   "outputs": [
    {
     "name": "stdout",
     "output_type": "stream",
     "text": [
      "C-3PO\n",
      "R2-D2\n",
      "R5-D4\n",
      "IG-88\n",
      "BB8\n"
     ]
    }
   ],
   "source": [
    "for droid in droid_data:\n",
    "    print(droid['name'])"
   ]
  },
  {
   "cell_type": "code",
   "execution_count": null,
   "metadata": {},
   "outputs": [],
   "source": []
  },
  {
   "cell_type": "markdown",
   "metadata": {},
   "source": [
    "## 9) Print out more about the droid\n",
    "\n",
    "Count the number of films for each droid, printing `\"___ was in ___ films\"` for each of them\n",
    "\n",
    "* *Tip: You might want to look at a single droid result, or print the data in the for loop, so you know how to get the films. Or read the documentation!*"
   ]
  },
  {
   "cell_type": "code",
   "execution_count": 24,
   "metadata": {},
   "outputs": [
    {
     "data": {
      "text/plain": [
       "{'name': 'C-3PO',\n",
       " 'height': '167',\n",
       " 'mass': '75',\n",
       " 'hair_color': 'n/a',\n",
       " 'skin_color': 'gold',\n",
       " 'eye_color': 'yellow',\n",
       " 'birth_year': '112BBY',\n",
       " 'gender': 'n/a',\n",
       " 'homeworld': 'https://swapi.co/api/planets/1/',\n",
       " 'films': ['https://swapi.co/api/films/2/',\n",
       "  'https://swapi.co/api/films/5/',\n",
       "  'https://swapi.co/api/films/4/',\n",
       "  'https://swapi.co/api/films/6/',\n",
       "  'https://swapi.co/api/films/3/',\n",
       "  'https://swapi.co/api/films/1/'],\n",
       " 'species': ['https://swapi.co/api/species/2/'],\n",
       " 'vehicles': [],\n",
       " 'starships': [],\n",
       " 'created': '2014-12-10T15:10:51.357000Z',\n",
       " 'edited': '2014-12-20T21:17:50.309000Z',\n",
       " 'url': 'https://swapi.co/api/people/2/'}"
      ]
     },
     "execution_count": 24,
     "metadata": {},
     "output_type": "execute_result"
    }
   ],
   "source": [
    "droid_data[0]"
   ]
  },
  {
   "cell_type": "code",
   "execution_count": 25,
   "metadata": {},
   "outputs": [
    {
     "name": "stdout",
     "output_type": "stream",
     "text": [
      "C-3PO was in 6 films.\n",
      "R2-D2 was in 7 films.\n",
      "R5-D4 was in 1 film.\n",
      "IG-88 was in 1 film.\n",
      "BB8 was in 1 film.\n"
     ]
    }
   ],
   "source": [
    "for droid in droid_data:\n",
    "    if len(droid['films']) == 1:\n",
    "        print(f\"{droid['name']} was in {len(droid['films'])} film.\")\n",
    "    else:\n",
    "        print(f\"{droid['name']} was in {len(droid['films'])} films.\")"
   ]
  },
  {
   "cell_type": "code",
   "execution_count": null,
   "metadata": {},
   "outputs": [],
   "source": []
  },
  {
   "cell_type": "markdown",
   "metadata": {},
   "source": [
    "## 10) Let's be smart and cache the results *[DIFFICULT, maybe!]*\n",
    "\n",
    "So far we've been using a for loop to go through each droid. Every droid, one more request. Every time we want more data, we run the loops again. I don't want that guy to get angry that we're asking for so much data!\n",
    "\n",
    "We want to our list of **droid urls** and turn it into a **list of dictionaries about those droids**. Save it as a variable called `droids`. If you get it correct, the following code should work if you cut and paste it.\n",
    "\n",
    "```python\n",
    "for droid in droids:\n",
    "    print(droid['name'])\n",
    "```\n",
    "\n",
    "* *Tip: Use a list comprehension*\n",
    "* *Tip: So far we've done `response = requests.get..` and `response.json()` on separate lines. You'll need to combine them!*"
   ]
  },
  {
   "cell_type": "code",
   "execution_count": 26,
   "metadata": {},
   "outputs": [],
   "source": [
    "# LIST COMPREHENSION\n",
    "#   - names = [art['title'] for art in art_pieces]\n",
    "\n",
    "    \n",
    "#   - names = [art['title'] for art in art_pieces if art['year] > 1900]\n",
    "\n",
    "droids = [requests.get(droid['url']).json() for droid in droid_data]\n"
   ]
  },
  {
   "cell_type": "code",
   "execution_count": 27,
   "metadata": {},
   "outputs": [
    {
     "name": "stdout",
     "output_type": "stream",
     "text": [
      "[{'name': 'C-3PO', 'height': '167', 'mass': '75', 'hair_color': 'n/a', 'skin_color': 'gold', 'eye_color': 'yellow', 'birth_year': '112BBY', 'gender': 'n/a', 'homeworld': 'https://swapi.co/api/planets/1/', 'films': ['https://swapi.co/api/films/2/', 'https://swapi.co/api/films/5/', 'https://swapi.co/api/films/4/', 'https://swapi.co/api/films/6/', 'https://swapi.co/api/films/3/', 'https://swapi.co/api/films/1/'], 'species': ['https://swapi.co/api/species/2/'], 'vehicles': [], 'starships': [], 'created': '2014-12-10T15:10:51.357000Z', 'edited': '2014-12-20T21:17:50.309000Z', 'url': 'https://swapi.co/api/people/2/'}, {'name': 'R2-D2', 'height': '96', 'mass': '32', 'hair_color': 'n/a', 'skin_color': 'white, blue', 'eye_color': 'red', 'birth_year': '33BBY', 'gender': 'n/a', 'homeworld': 'https://swapi.co/api/planets/8/', 'films': ['https://swapi.co/api/films/2/', 'https://swapi.co/api/films/5/', 'https://swapi.co/api/films/4/', 'https://swapi.co/api/films/6/', 'https://swapi.co/api/films/3/', 'https://swapi.co/api/films/1/', 'https://swapi.co/api/films/7/'], 'species': ['https://swapi.co/api/species/2/'], 'vehicles': [], 'starships': [], 'created': '2014-12-10T15:11:50.376000Z', 'edited': '2014-12-20T21:17:50.311000Z', 'url': 'https://swapi.co/api/people/3/'}, {'name': 'R5-D4', 'height': '97', 'mass': '32', 'hair_color': 'n/a', 'skin_color': 'white, red', 'eye_color': 'red', 'birth_year': 'unknown', 'gender': 'n/a', 'homeworld': 'https://swapi.co/api/planets/1/', 'films': ['https://swapi.co/api/films/1/'], 'species': ['https://swapi.co/api/species/2/'], 'vehicles': [], 'starships': [], 'created': '2014-12-10T15:57:50.959000Z', 'edited': '2014-12-20T21:17:50.321000Z', 'url': 'https://swapi.co/api/people/8/'}, {'name': 'IG-88', 'height': '200', 'mass': '140', 'hair_color': 'none', 'skin_color': 'metal', 'eye_color': 'red', 'birth_year': '15BBY', 'gender': 'none', 'homeworld': 'https://swapi.co/api/planets/28/', 'films': ['https://swapi.co/api/films/2/'], 'species': ['https://swapi.co/api/species/2/'], 'vehicles': [], 'starships': [], 'created': '2014-12-15T12:51:10.076000Z', 'edited': '2014-12-20T21:17:50.351000Z', 'url': 'https://swapi.co/api/people/23/'}, {'name': 'BB8', 'height': 'unknown', 'mass': 'unknown', 'hair_color': 'none', 'skin_color': 'none', 'eye_color': 'black', 'birth_year': 'unknown', 'gender': 'none', 'homeworld': 'https://swapi.co/api/planets/28/', 'films': ['https://swapi.co/api/films/7/'], 'species': ['https://swapi.co/api/species/2/'], 'vehicles': [], 'starships': [], 'created': '2015-04-17T06:57:38.061346Z', 'edited': '2015-04-17T06:57:38.061453Z', 'url': 'https://swapi.co/api/people/87/'}]\n"
     ]
    }
   ],
   "source": [
    "print(droids)"
   ]
  },
  {
   "cell_type": "code",
   "execution_count": 28,
   "metadata": {},
   "outputs": [
    {
     "name": "stdout",
     "output_type": "stream",
     "text": [
      "C-3PO\n",
      "R2-D2\n",
      "R5-D4\n",
      "IG-88\n",
      "BB8\n"
     ]
    }
   ],
   "source": [
    "droids_names = [print(droid['name']) for droid in droids]\n"
   ]
  },
  {
   "cell_type": "markdown",
   "metadata": {},
   "source": [
    "## 11) Get a list of every single planet in the Star Wars universe\n",
    "\n",
    "* *Tip: You'll want to use the API documentation for this, I think*"
   ]
  },
  {
   "cell_type": "code",
   "execution_count": 29,
   "metadata": {},
   "outputs": [],
   "source": [
    "# Saw there are 62 planets in total in the About page.... so:\n",
    "planet_urls = []\n",
    "for i in range(1, 62):\n",
    "    planet_urls.append(f\"https://swapi.co/api/planets/{i}/\")"
   ]
  },
  {
   "cell_type": "code",
   "execution_count": 30,
   "metadata": {},
   "outputs": [],
   "source": [
    "planet_data = [(requests.get(planet)).json() for planet in planet_urls]"
   ]
  },
  {
   "cell_type": "code",
   "execution_count": 31,
   "metadata": {},
   "outputs": [
    {
     "name": "stdout",
     "output_type": "stream",
     "text": [
      "[{'name': 'Tatooine', 'rotation_period': '23', 'orbital_period': '304', 'diameter': '10465', 'climate': 'arid', 'gravity': '1 standard', 'terrain': 'desert', 'surface_water': '1', 'population': '200000', 'residents': ['https://swapi.co/api/people/1/', 'https://swapi.co/api/people/2/', 'https://swapi.co/api/people/4/', 'https://swapi.co/api/people/6/', 'https://swapi.co/api/people/7/', 'https://swapi.co/api/people/8/', 'https://swapi.co/api/people/9/', 'https://swapi.co/api/people/11/', 'https://swapi.co/api/people/43/', 'https://swapi.co/api/people/62/'], 'films': ['https://swapi.co/api/films/5/', 'https://swapi.co/api/films/4/', 'https://swapi.co/api/films/6/', 'https://swapi.co/api/films/3/', 'https://swapi.co/api/films/1/'], 'created': '2014-12-09T13:50:49.641000Z', 'edited': '2014-12-21T20:48:04.175778Z', 'url': 'https://swapi.co/api/planets/1/'}, {'name': 'Alderaan', 'rotation_period': '24', 'orbital_period': '364', 'diameter': '12500', 'climate': 'temperate', 'gravity': '1 standard', 'terrain': 'grasslands, mountains', 'surface_water': '40', 'population': '2000000000', 'residents': ['https://swapi.co/api/people/5/', 'https://swapi.co/api/people/68/', 'https://swapi.co/api/people/81/'], 'films': ['https://swapi.co/api/films/6/', 'https://swapi.co/api/films/1/'], 'created': '2014-12-10T11:35:48.479000Z', 'edited': '2014-12-20T20:58:18.420000Z', 'url': 'https://swapi.co/api/planets/2/'}, {'name': 'Yavin IV', 'rotation_period': '24', 'orbital_period': '4818', 'diameter': '10200', 'climate': 'temperate, tropical', 'gravity': '1 standard', 'terrain': 'jungle, rainforests', 'surface_water': '8', 'population': '1000', 'residents': [], 'films': ['https://swapi.co/api/films/1/'], 'created': '2014-12-10T11:37:19.144000Z', 'edited': '2014-12-20T20:58:18.421000Z', 'url': 'https://swapi.co/api/planets/3/'}, {'name': 'Hoth', 'rotation_period': '23', 'orbital_period': '549', 'diameter': '7200', 'climate': 'frozen', 'gravity': '1.1 standard', 'terrain': 'tundra, ice caves, mountain ranges', 'surface_water': '100', 'population': 'unknown', 'residents': [], 'films': ['https://swapi.co/api/films/2/'], 'created': '2014-12-10T11:39:13.934000Z', 'edited': '2014-12-20T20:58:18.423000Z', 'url': 'https://swapi.co/api/planets/4/'}, {'name': 'Dagobah', 'rotation_period': '23', 'orbital_period': '341', 'diameter': '8900', 'climate': 'murky', 'gravity': 'N/A', 'terrain': 'swamp, jungles', 'surface_water': '8', 'population': 'unknown', 'residents': [], 'films': ['https://swapi.co/api/films/2/', 'https://swapi.co/api/films/6/', 'https://swapi.co/api/films/3/'], 'created': '2014-12-10T11:42:22.590000Z', 'edited': '2014-12-20T20:58:18.425000Z', 'url': 'https://swapi.co/api/planets/5/'}, {'name': 'Bespin', 'rotation_period': '12', 'orbital_period': '5110', 'diameter': '118000', 'climate': 'temperate', 'gravity': '1.5 (surface), 1 standard (Cloud City)', 'terrain': 'gas giant', 'surface_water': '0', 'population': '6000000', 'residents': ['https://swapi.co/api/people/26/'], 'films': ['https://swapi.co/api/films/2/'], 'created': '2014-12-10T11:43:55.240000Z', 'edited': '2014-12-20T20:58:18.427000Z', 'url': 'https://swapi.co/api/planets/6/'}, {'name': 'Endor', 'rotation_period': '18', 'orbital_period': '402', 'diameter': '4900', 'climate': 'temperate', 'gravity': '0.85 standard', 'terrain': 'forests, mountains, lakes', 'surface_water': '8', 'population': '30000000', 'residents': ['https://swapi.co/api/people/30/'], 'films': ['https://swapi.co/api/films/3/'], 'created': '2014-12-10T11:50:29.349000Z', 'edited': '2014-12-20T20:58:18.429000Z', 'url': 'https://swapi.co/api/planets/7/'}, {'name': 'Naboo', 'rotation_period': '26', 'orbital_period': '312', 'diameter': '12120', 'climate': 'temperate', 'gravity': '1 standard', 'terrain': 'grassy hills, swamps, forests, mountains', 'surface_water': '12', 'population': '4500000000', 'residents': ['https://swapi.co/api/people/3/', 'https://swapi.co/api/people/21/', 'https://swapi.co/api/people/36/', 'https://swapi.co/api/people/37/', 'https://swapi.co/api/people/38/', 'https://swapi.co/api/people/39/', 'https://swapi.co/api/people/42/', 'https://swapi.co/api/people/60/', 'https://swapi.co/api/people/61/', 'https://swapi.co/api/people/66/', 'https://swapi.co/api/people/35/'], 'films': ['https://swapi.co/api/films/5/', 'https://swapi.co/api/films/4/', 'https://swapi.co/api/films/6/', 'https://swapi.co/api/films/3/'], 'created': '2014-12-10T11:52:31.066000Z', 'edited': '2014-12-20T20:58:18.430000Z', 'url': 'https://swapi.co/api/planets/8/'}, {'name': 'Coruscant', 'rotation_period': '24', 'orbital_period': '368', 'diameter': '12240', 'climate': 'temperate', 'gravity': '1 standard', 'terrain': 'cityscape, mountains', 'surface_water': 'unknown', 'population': '1000000000000', 'residents': ['https://swapi.co/api/people/34/', 'https://swapi.co/api/people/55/', 'https://swapi.co/api/people/74/'], 'films': ['https://swapi.co/api/films/5/', 'https://swapi.co/api/films/4/', 'https://swapi.co/api/films/6/', 'https://swapi.co/api/films/3/'], 'created': '2014-12-10T11:54:13.921000Z', 'edited': '2014-12-20T20:58:18.432000Z', 'url': 'https://swapi.co/api/planets/9/'}, {'name': 'Kamino', 'rotation_period': '27', 'orbital_period': '463', 'diameter': '19720', 'climate': 'temperate', 'gravity': '1 standard', 'terrain': 'ocean', 'surface_water': '100', 'population': '1000000000', 'residents': ['https://swapi.co/api/people/22/', 'https://swapi.co/api/people/72/', 'https://swapi.co/api/people/73/'], 'films': ['https://swapi.co/api/films/5/'], 'created': '2014-12-10T12:45:06.577000Z', 'edited': '2014-12-20T20:58:18.434000Z', 'url': 'https://swapi.co/api/planets/10/'}, {'name': 'Geonosis', 'rotation_period': '30', 'orbital_period': '256', 'diameter': '11370', 'climate': 'temperate, arid', 'gravity': '0.9 standard', 'terrain': 'rock, desert, mountain, barren', 'surface_water': '5', 'population': '100000000000', 'residents': ['https://swapi.co/api/people/63/'], 'films': ['https://swapi.co/api/films/5/'], 'created': '2014-12-10T12:47:22.350000Z', 'edited': '2014-12-20T20:58:18.437000Z', 'url': 'https://swapi.co/api/planets/11/'}, {'name': 'Utapau', 'rotation_period': '27', 'orbital_period': '351', 'diameter': '12900', 'climate': 'temperate, arid, windy', 'gravity': '1 standard', 'terrain': 'scrublands, savanna, canyons, sinkholes', 'surface_water': '0.9', 'population': '95000000', 'residents': ['https://swapi.co/api/people/83/'], 'films': ['https://swapi.co/api/films/6/'], 'created': '2014-12-10T12:49:01.491000Z', 'edited': '2014-12-20T20:58:18.439000Z', 'url': 'https://swapi.co/api/planets/12/'}, {'name': 'Mustafar', 'rotation_period': '36', 'orbital_period': '412', 'diameter': '4200', 'climate': 'hot', 'gravity': '1 standard', 'terrain': 'volcanoes, lava rivers, mountains, caves', 'surface_water': '0', 'population': '20000', 'residents': [], 'films': ['https://swapi.co/api/films/6/'], 'created': '2014-12-10T12:50:16.526000Z', 'edited': '2014-12-20T20:58:18.440000Z', 'url': 'https://swapi.co/api/planets/13/'}, {'name': 'Kashyyyk', 'rotation_period': '26', 'orbital_period': '381', 'diameter': '12765', 'climate': 'tropical', 'gravity': '1 standard', 'terrain': 'jungle, forests, lakes, rivers', 'surface_water': '60', 'population': '45000000', 'residents': ['https://swapi.co/api/people/13/', 'https://swapi.co/api/people/80/'], 'films': ['https://swapi.co/api/films/6/'], 'created': '2014-12-10T13:32:00.124000Z', 'edited': '2014-12-20T20:58:18.442000Z', 'url': 'https://swapi.co/api/planets/14/'}, {'name': 'Polis Massa', 'rotation_period': '24', 'orbital_period': '590', 'diameter': '0', 'climate': 'artificial temperate ', 'gravity': '0.56 standard', 'terrain': 'airless asteroid', 'surface_water': '0', 'population': '1000000', 'residents': [], 'films': ['https://swapi.co/api/films/6/'], 'created': '2014-12-10T13:33:46.405000Z', 'edited': '2014-12-20T20:58:18.444000Z', 'url': 'https://swapi.co/api/planets/15/'}, {'name': 'Mygeeto', 'rotation_period': '12', 'orbital_period': '167', 'diameter': '10088', 'climate': 'frigid', 'gravity': '1 standard', 'terrain': 'glaciers, mountains, ice canyons', 'surface_water': 'unknown', 'population': '19000000', 'residents': [], 'films': ['https://swapi.co/api/films/6/'], 'created': '2014-12-10T13:43:39.139000Z', 'edited': '2014-12-20T20:58:18.446000Z', 'url': 'https://swapi.co/api/planets/16/'}, {'name': 'Felucia', 'rotation_period': '34', 'orbital_period': '231', 'diameter': '9100', 'climate': 'hot, humid', 'gravity': '0.75 standard', 'terrain': 'fungus forests', 'surface_water': 'unknown', 'population': '8500000', 'residents': [], 'films': ['https://swapi.co/api/films/6/'], 'created': '2014-12-10T13:44:50.397000Z', 'edited': '2014-12-20T20:58:18.447000Z', 'url': 'https://swapi.co/api/planets/17/'}, {'name': 'Cato Neimoidia', 'rotation_period': '25', 'orbital_period': '278', 'diameter': '0', 'climate': 'temperate, moist', 'gravity': '1 standard', 'terrain': 'mountains, fields, forests, rock arches', 'surface_water': 'unknown', 'population': '10000000', 'residents': ['https://swapi.co/api/people/33/'], 'films': ['https://swapi.co/api/films/6/'], 'created': '2014-12-10T13:46:28.704000Z', 'edited': '2014-12-20T20:58:18.449000Z', 'url': 'https://swapi.co/api/planets/18/'}, {'name': 'Saleucami', 'rotation_period': '26', 'orbital_period': '392', 'diameter': '14920', 'climate': 'hot', 'gravity': 'unknown', 'terrain': 'caves, desert, mountains, volcanoes', 'surface_water': 'unknown', 'population': '1400000000', 'residents': [], 'films': ['https://swapi.co/api/films/6/'], 'created': '2014-12-10T13:47:46.874000Z', 'edited': '2014-12-20T20:58:18.450000Z', 'url': 'https://swapi.co/api/planets/19/'}, {'name': 'Stewjon', 'rotation_period': 'unknown', 'orbital_period': 'unknown', 'diameter': '0', 'climate': 'temperate', 'gravity': '1 standard', 'terrain': 'grass', 'surface_water': 'unknown', 'population': 'unknown', 'residents': ['https://swapi.co/api/people/10/'], 'films': [], 'created': '2014-12-10T16:16:26.566000Z', 'edited': '2014-12-20T20:58:18.452000Z', 'url': 'https://swapi.co/api/planets/20/'}, {'name': 'Eriadu', 'rotation_period': '24', 'orbital_period': '360', 'diameter': '13490', 'climate': 'polluted', 'gravity': '1 standard', 'terrain': 'cityscape', 'surface_water': 'unknown', 'population': '22000000000', 'residents': ['https://swapi.co/api/people/12/'], 'films': [], 'created': '2014-12-10T16:26:54.384000Z', 'edited': '2014-12-20T20:58:18.454000Z', 'url': 'https://swapi.co/api/planets/21/'}, {'name': 'Corellia', 'rotation_period': '25', 'orbital_period': '329', 'diameter': '11000', 'climate': 'temperate', 'gravity': '1 standard', 'terrain': 'plains, urban, hills, forests', 'surface_water': '70', 'population': '3000000000', 'residents': ['https://swapi.co/api/people/14/', 'https://swapi.co/api/people/18/'], 'films': [], 'created': '2014-12-10T16:49:12.453000Z', 'edited': '2014-12-20T20:58:18.456000Z', 'url': 'https://swapi.co/api/planets/22/'}, {'name': 'Rodia', 'rotation_period': '29', 'orbital_period': '305', 'diameter': '7549', 'climate': 'hot', 'gravity': '1 standard', 'terrain': 'jungles, oceans, urban, swamps', 'surface_water': '60', 'population': '1300000000', 'residents': ['https://swapi.co/api/people/15/'], 'films': [], 'created': '2014-12-10T17:03:28.110000Z', 'edited': '2014-12-20T20:58:18.458000Z', 'url': 'https://swapi.co/api/planets/23/'}, {'name': 'Nal Hutta', 'rotation_period': '87', 'orbital_period': '413', 'diameter': '12150', 'climate': 'temperate', 'gravity': '1 standard', 'terrain': 'urban, oceans, swamps, bogs', 'surface_water': 'unknown', 'population': '7000000000', 'residents': ['https://swapi.co/api/people/16/'], 'films': [], 'created': '2014-12-10T17:11:29.452000Z', 'edited': '2014-12-20T20:58:18.460000Z', 'url': 'https://swapi.co/api/planets/24/'}, {'name': 'Dantooine', 'rotation_period': '25', 'orbital_period': '378', 'diameter': '9830', 'climate': 'temperate', 'gravity': '1 standard', 'terrain': 'oceans, savannas, mountains, grasslands', 'surface_water': 'unknown', 'population': '1000', 'residents': [], 'films': [], 'created': '2014-12-10T17:23:29.896000Z', 'edited': '2014-12-20T20:58:18.461000Z', 'url': 'https://swapi.co/api/planets/25/'}, {'name': 'Bestine IV', 'rotation_period': '26', 'orbital_period': '680', 'diameter': '6400', 'climate': 'temperate', 'gravity': 'unknown', 'terrain': 'rocky islands, oceans', 'surface_water': '98', 'population': '62000000', 'residents': ['https://swapi.co/api/people/19/'], 'films': [], 'created': '2014-12-12T11:16:55.078000Z', 'edited': '2014-12-20T20:58:18.463000Z', 'url': 'https://swapi.co/api/planets/26/'}, {'name': 'Ord Mantell', 'rotation_period': '26', 'orbital_period': '334', 'diameter': '14050', 'climate': 'temperate', 'gravity': '1 standard', 'terrain': 'plains, seas, mesas', 'surface_water': '10', 'population': '4000000000', 'residents': [], 'films': ['https://swapi.co/api/films/2/'], 'created': '2014-12-15T12:23:41.661000Z', 'edited': '2014-12-20T20:58:18.464000Z', 'url': 'https://swapi.co/api/planets/27/'}, {'name': 'unknown', 'rotation_period': '0', 'orbital_period': '0', 'diameter': '0', 'climate': 'unknown', 'gravity': 'unknown', 'terrain': 'unknown', 'surface_water': 'unknown', 'population': 'unknown', 'residents': ['https://swapi.co/api/people/20/', 'https://swapi.co/api/people/23/', 'https://swapi.co/api/people/29/', 'https://swapi.co/api/people/32/', 'https://swapi.co/api/people/75/', 'https://swapi.co/api/people/84/', 'https://swapi.co/api/people/85/', 'https://swapi.co/api/people/86/', 'https://swapi.co/api/people/87/', 'https://swapi.co/api/people/88/'], 'films': [], 'created': '2014-12-15T12:25:59.569000Z', 'edited': '2014-12-20T20:58:18.466000Z', 'url': 'https://swapi.co/api/planets/28/'}, {'name': 'Trandosha', 'rotation_period': '25', 'orbital_period': '371', 'diameter': '0', 'climate': 'arid', 'gravity': '0.62 standard', 'terrain': 'mountains, seas, grasslands, deserts', 'surface_water': 'unknown', 'population': '42000000', 'residents': ['https://swapi.co/api/people/24/'], 'films': [], 'created': '2014-12-15T12:53:47.695000Z', 'edited': '2014-12-20T20:58:18.468000Z', 'url': 'https://swapi.co/api/planets/29/'}, {'name': 'Socorro', 'rotation_period': '20', 'orbital_period': '326', 'diameter': '0', 'climate': 'arid', 'gravity': '1 standard', 'terrain': 'deserts, mountains', 'surface_water': 'unknown', 'population': '300000000', 'residents': ['https://swapi.co/api/people/25/'], 'films': [], 'created': '2014-12-15T12:56:31.121000Z', 'edited': '2014-12-20T20:58:18.469000Z', 'url': 'https://swapi.co/api/planets/30/'}, {'name': 'Mon Cala', 'rotation_period': '21', 'orbital_period': '398', 'diameter': '11030', 'climate': 'temperate', 'gravity': '1', 'terrain': 'oceans, reefs, islands', 'surface_water': '100', 'population': '27000000000', 'residents': ['https://swapi.co/api/people/27/'], 'films': [], 'created': '2014-12-18T11:07:01.792000Z', 'edited': '2014-12-20T20:58:18.471000Z', 'url': 'https://swapi.co/api/planets/31/'}, {'name': 'Chandrila', 'rotation_period': '20', 'orbital_period': '368', 'diameter': '13500', 'climate': 'temperate', 'gravity': '1', 'terrain': 'plains, forests', 'surface_water': '40', 'population': '1200000000', 'residents': ['https://swapi.co/api/people/28/'], 'films': [], 'created': '2014-12-18T11:11:51.872000Z', 'edited': '2014-12-20T20:58:18.472000Z', 'url': 'https://swapi.co/api/planets/32/'}, {'name': 'Sullust', 'rotation_period': '20', 'orbital_period': '263', 'diameter': '12780', 'climate': 'superheated', 'gravity': '1', 'terrain': 'mountains, volcanoes, rocky deserts', 'surface_water': '5', 'population': '18500000000', 'residents': ['https://swapi.co/api/people/31/'], 'films': [], 'created': '2014-12-18T11:25:40.243000Z', 'edited': '2014-12-20T20:58:18.474000Z', 'url': 'https://swapi.co/api/planets/33/'}, {'name': 'Toydaria', 'rotation_period': '21', 'orbital_period': '184', 'diameter': '7900', 'climate': 'temperate', 'gravity': '1', 'terrain': 'swamps, lakes', 'surface_water': 'unknown', 'population': '11000000', 'residents': ['https://swapi.co/api/people/40/'], 'films': [], 'created': '2014-12-19T17:47:54.403000Z', 'edited': '2014-12-20T20:58:18.476000Z', 'url': 'https://swapi.co/api/planets/34/'}, {'name': 'Malastare', 'rotation_period': '26', 'orbital_period': '201', 'diameter': '18880', 'climate': 'arid, temperate, tropical', 'gravity': '1.56', 'terrain': 'swamps, deserts, jungles, mountains', 'surface_water': 'unknown', 'population': '2000000000', 'residents': ['https://swapi.co/api/people/41/'], 'films': [], 'created': '2014-12-19T17:52:13.106000Z', 'edited': '2014-12-20T20:58:18.478000Z', 'url': 'https://swapi.co/api/planets/35/'}, {'name': 'Dathomir', 'rotation_period': '24', 'orbital_period': '491', 'diameter': '10480', 'climate': 'temperate', 'gravity': '0.9', 'terrain': 'forests, deserts, savannas', 'surface_water': 'unknown', 'population': '5200', 'residents': ['https://swapi.co/api/people/44/'], 'films': [], 'created': '2014-12-19T18:00:40.142000Z', 'edited': '2014-12-20T20:58:18.480000Z', 'url': 'https://swapi.co/api/planets/36/'}, {'name': 'Ryloth', 'rotation_period': '30', 'orbital_period': '305', 'diameter': '10600', 'climate': 'temperate, arid, subartic', 'gravity': '1', 'terrain': 'mountains, valleys, deserts, tundra', 'surface_water': '5', 'population': '1500000000', 'residents': ['https://swapi.co/api/people/45/', 'https://swapi.co/api/people/46/'], 'films': [], 'created': '2014-12-20T09:46:25.740000Z', 'edited': '2014-12-20T20:58:18.481000Z', 'url': 'https://swapi.co/api/planets/37/'}, {'name': 'Aleen Minor', 'rotation_period': 'unknown', 'orbital_period': 'unknown', 'diameter': 'unknown', 'climate': 'unknown', 'gravity': 'unknown', 'terrain': 'unknown', 'surface_water': 'unknown', 'population': 'unknown', 'residents': ['https://swapi.co/api/people/47/'], 'films': [], 'created': '2014-12-20T09:52:23.452000Z', 'edited': '2014-12-20T20:58:18.483000Z', 'url': 'https://swapi.co/api/planets/38/'}, {'name': 'Vulpter', 'rotation_period': '22', 'orbital_period': '391', 'diameter': '14900', 'climate': 'temperate, artic', 'gravity': '1', 'terrain': 'urban, barren', 'surface_water': 'unknown', 'population': '421000000', 'residents': ['https://swapi.co/api/people/48/'], 'films': [], 'created': '2014-12-20T09:56:58.874000Z', 'edited': '2014-12-20T20:58:18.485000Z', 'url': 'https://swapi.co/api/planets/39/'}, {'name': 'Troiken', 'rotation_period': 'unknown', 'orbital_period': 'unknown', 'diameter': 'unknown', 'climate': 'unknown', 'gravity': 'unknown', 'terrain': 'desert, tundra, rainforests, mountains', 'surface_water': 'unknown', 'population': 'unknown', 'residents': ['https://swapi.co/api/people/49/'], 'films': [], 'created': '2014-12-20T10:01:37.395000Z', 'edited': '2014-12-20T20:58:18.487000Z', 'url': 'https://swapi.co/api/planets/40/'}, {'name': 'Tund', 'rotation_period': '48', 'orbital_period': '1770', 'diameter': '12190', 'climate': 'unknown', 'gravity': 'unknown', 'terrain': 'barren, ash', 'surface_water': 'unknown', 'population': '0', 'residents': ['https://swapi.co/api/people/50/'], 'films': [], 'created': '2014-12-20T10:07:29.578000Z', 'edited': '2014-12-20T20:58:18.489000Z', 'url': 'https://swapi.co/api/planets/41/'}, {'name': 'Haruun Kal', 'rotation_period': '25', 'orbital_period': '383', 'diameter': '10120', 'climate': 'temperate', 'gravity': '0.98', 'terrain': 'toxic cloudsea, plateaus, volcanoes', 'surface_water': 'unknown', 'population': '705300', 'residents': ['https://swapi.co/api/people/51/'], 'films': [], 'created': '2014-12-20T10:12:28.980000Z', 'edited': '2014-12-20T20:58:18.491000Z', 'url': 'https://swapi.co/api/planets/42/'}, {'name': 'Cerea', 'rotation_period': '27', 'orbital_period': '386', 'diameter': 'unknown', 'climate': 'temperate', 'gravity': '1', 'terrain': 'verdant', 'surface_water': '20', 'population': '450000000', 'residents': ['https://swapi.co/api/people/52/'], 'films': [], 'created': '2014-12-20T10:14:48.178000Z', 'edited': '2014-12-20T20:58:18.493000Z', 'url': 'https://swapi.co/api/planets/43/'}, {'name': 'Glee Anselm', 'rotation_period': '33', 'orbital_period': '206', 'diameter': '15600', 'climate': 'tropical, temperate', 'gravity': '1', 'terrain': 'lakes, islands, swamps, seas', 'surface_water': '80', 'population': '500000000', 'residents': ['https://swapi.co/api/people/53/'], 'films': [], 'created': '2014-12-20T10:18:26.110000Z', 'edited': '2014-12-20T20:58:18.495000Z', 'url': 'https://swapi.co/api/planets/44/'}, {'name': 'Iridonia', 'rotation_period': '29', 'orbital_period': '413', 'diameter': 'unknown', 'climate': 'unknown', 'gravity': 'unknown', 'terrain': 'rocky canyons, acid pools', 'surface_water': 'unknown', 'population': 'unknown', 'residents': ['https://swapi.co/api/people/54/'], 'films': [], 'created': '2014-12-20T10:26:05.788000Z', 'edited': '2014-12-20T20:58:18.497000Z', 'url': 'https://swapi.co/api/planets/45/'}, {'name': 'Tholoth', 'rotation_period': 'unknown', 'orbital_period': 'unknown', 'diameter': 'unknown', 'climate': 'unknown', 'gravity': 'unknown', 'terrain': 'unknown', 'surface_water': 'unknown', 'population': 'unknown', 'residents': [], 'films': [], 'created': '2014-12-20T10:28:31.117000Z', 'edited': '2014-12-20T20:58:18.498000Z', 'url': 'https://swapi.co/api/planets/46/'}, {'name': 'Iktotch', 'rotation_period': '22', 'orbital_period': '481', 'diameter': 'unknown', 'climate': 'arid, rocky, windy', 'gravity': '1', 'terrain': 'rocky', 'surface_water': 'unknown', 'population': 'unknown', 'residents': ['https://swapi.co/api/people/56/'], 'films': [], 'created': '2014-12-20T10:31:32.413000Z', 'edited': '2014-12-20T20:58:18.500000Z', 'url': 'https://swapi.co/api/planets/47/'}, {'name': 'Quermia', 'rotation_period': 'unknown', 'orbital_period': 'unknown', 'diameter': 'unknown', 'climate': 'unknown', 'gravity': 'unknown', 'terrain': 'unknown', 'surface_water': 'unknown', 'population': 'unknown', 'residents': ['https://swapi.co/api/people/57/'], 'films': [], 'created': '2014-12-20T10:34:08.249000Z', 'edited': '2014-12-20T20:58:18.502000Z', 'url': 'https://swapi.co/api/planets/48/'}, {'name': 'Dorin', 'rotation_period': '22', 'orbital_period': '409', 'diameter': '13400', 'climate': 'temperate', 'gravity': '1', 'terrain': 'unknown', 'surface_water': 'unknown', 'population': 'unknown', 'residents': ['https://swapi.co/api/people/58/'], 'films': [], 'created': '2014-12-20T10:48:36.141000Z', 'edited': '2014-12-20T20:58:18.504000Z', 'url': 'https://swapi.co/api/planets/49/'}, {'name': 'Champala', 'rotation_period': '27', 'orbital_period': '318', 'diameter': 'unknown', 'climate': 'temperate', 'gravity': '1', 'terrain': 'oceans, rainforests, plateaus', 'surface_water': 'unknown', 'population': '3500000000', 'residents': ['https://swapi.co/api/people/59/'], 'films': [], 'created': '2014-12-20T10:52:51.524000Z', 'edited': '2014-12-20T20:58:18.506000Z', 'url': 'https://swapi.co/api/planets/50/'}, {'name': 'Mirial', 'rotation_period': 'unknown', 'orbital_period': 'unknown', 'diameter': 'unknown', 'climate': 'unknown', 'gravity': 'unknown', 'terrain': 'deserts', 'surface_water': 'unknown', 'population': 'unknown', 'residents': ['https://swapi.co/api/people/64/', 'https://swapi.co/api/people/65/'], 'films': [], 'created': '2014-12-20T16:44:46.318000Z', 'edited': '2014-12-20T20:58:18.508000Z', 'url': 'https://swapi.co/api/planets/51/'}, {'name': 'Serenno', 'rotation_period': 'unknown', 'orbital_period': 'unknown', 'diameter': 'unknown', 'climate': 'unknown', 'gravity': 'unknown', 'terrain': 'rainforests, rivers, mountains', 'surface_water': 'unknown', 'population': 'unknown', 'residents': ['https://swapi.co/api/people/67/'], 'films': [], 'created': '2014-12-20T16:52:13.357000Z', 'edited': '2014-12-20T20:58:18.510000Z', 'url': 'https://swapi.co/api/planets/52/'}, {'name': 'Concord Dawn', 'rotation_period': 'unknown', 'orbital_period': 'unknown', 'diameter': 'unknown', 'climate': 'unknown', 'gravity': 'unknown', 'terrain': 'jungles, forests, deserts', 'surface_water': 'unknown', 'population': 'unknown', 'residents': ['https://swapi.co/api/people/69/'], 'films': [], 'created': '2014-12-20T16:54:39.909000Z', 'edited': '2014-12-20T20:58:18.512000Z', 'url': 'https://swapi.co/api/planets/53/'}, {'name': 'Zolan', 'rotation_period': 'unknown', 'orbital_period': 'unknown', 'diameter': 'unknown', 'climate': 'unknown', 'gravity': 'unknown', 'terrain': 'unknown', 'surface_water': 'unknown', 'population': 'unknown', 'residents': ['https://swapi.co/api/people/70/'], 'films': [], 'created': '2014-12-20T16:56:37.250000Z', 'edited': '2014-12-20T20:58:18.514000Z', 'url': 'https://swapi.co/api/planets/54/'}, {'name': 'Ojom', 'rotation_period': 'unknown', 'orbital_period': 'unknown', 'diameter': 'unknown', 'climate': 'frigid', 'gravity': 'unknown', 'terrain': 'oceans, glaciers', 'surface_water': '100', 'population': '500000000', 'residents': ['https://swapi.co/api/people/71/'], 'films': [], 'created': '2014-12-20T17:27:41.286000Z', 'edited': '2014-12-20T20:58:18.516000Z', 'url': 'https://swapi.co/api/planets/55/'}, {'name': 'Skako', 'rotation_period': '27', 'orbital_period': '384', 'diameter': 'unknown', 'climate': 'temperate', 'gravity': '1', 'terrain': 'urban, vines', 'surface_water': 'unknown', 'population': '500000000000', 'residents': ['https://swapi.co/api/people/76/'], 'films': [], 'created': '2014-12-20T17:50:47.864000Z', 'edited': '2014-12-20T20:58:18.517000Z', 'url': 'https://swapi.co/api/planets/56/'}, {'name': 'Muunilinst', 'rotation_period': '28', 'orbital_period': '412', 'diameter': '13800', 'climate': 'temperate', 'gravity': '1', 'terrain': 'plains, forests, hills, mountains', 'surface_water': '25', 'population': '5000000000', 'residents': ['https://swapi.co/api/people/77/'], 'films': [], 'created': '2014-12-20T17:57:47.420000Z', 'edited': '2014-12-20T20:58:18.519000Z', 'url': 'https://swapi.co/api/planets/57/'}, {'name': 'Shili', 'rotation_period': 'unknown', 'orbital_period': 'unknown', 'diameter': 'unknown', 'climate': 'temperate', 'gravity': '1', 'terrain': 'cities, savannahs, seas, plains', 'surface_water': 'unknown', 'population': 'unknown', 'residents': ['https://swapi.co/api/people/78/'], 'films': [], 'created': '2014-12-20T18:43:14.049000Z', 'edited': '2014-12-20T20:58:18.521000Z', 'url': 'https://swapi.co/api/planets/58/'}, {'name': 'Kalee', 'rotation_period': '23', 'orbital_period': '378', 'diameter': '13850', 'climate': 'arid, temperate, tropical', 'gravity': '1', 'terrain': 'rainforests, cliffs, canyons, seas', 'surface_water': 'unknown', 'population': '4000000000', 'residents': ['https://swapi.co/api/people/79/'], 'films': [], 'created': '2014-12-20T19:43:51.278000Z', 'edited': '2014-12-20T20:58:18.523000Z', 'url': 'https://swapi.co/api/planets/59/'}, {'name': 'Umbara', 'rotation_period': 'unknown', 'orbital_period': 'unknown', 'diameter': 'unknown', 'climate': 'unknown', 'gravity': 'unknown', 'terrain': 'unknown', 'surface_water': 'unknown', 'population': 'unknown', 'residents': ['https://swapi.co/api/people/82/'], 'films': [], 'created': '2014-12-20T20:18:36.256000Z', 'edited': '2014-12-20T20:58:18.525000Z', 'url': 'https://swapi.co/api/planets/60/'}, {'name': 'Jakku', 'rotation_period': 'unknown', 'orbital_period': 'unknown', 'diameter': 'unknown', 'climate': 'unknown', 'gravity': 'unknown', 'terrain': 'deserts', 'surface_water': 'unknown', 'population': 'unknown', 'residents': [], 'films': ['https://swapi.co/api/films/7/'], 'created': '2015-04-17T06:55:57.556495Z', 'edited': '2015-04-17T06:55:57.556551Z', 'url': 'https://swapi.co/api/planets/61/'}]\n"
     ]
    }
   ],
   "source": [
    "print(planet_data)"
   ]
  },
  {
   "cell_type": "code",
   "execution_count": 32,
   "metadata": {},
   "outputs": [],
   "source": [
    "# ------------------------------- OR -------------------------------"
   ]
  },
  {
   "cell_type": "code",
   "execution_count": 33,
   "metadata": {},
   "outputs": [
    {
     "data": {
      "text/plain": [
       "dict_keys(['count', 'next', 'previous', 'results'])"
      ]
     },
     "execution_count": 33,
     "metadata": {},
     "output_type": "execute_result"
    }
   ],
   "source": [
    "planet_data2 = (requests.get('https://swapi.co/api/planets/')).json()\n",
    "planet_data2.keys()"
   ]
  },
  {
   "cell_type": "code",
   "execution_count": 34,
   "metadata": {},
   "outputs": [
    {
     "data": {
      "text/plain": [
       "[{'name': 'Alderaan',\n",
       "  'rotation_period': '24',\n",
       "  'orbital_period': '364',\n",
       "  'diameter': '12500',\n",
       "  'climate': 'temperate',\n",
       "  'gravity': '1 standard',\n",
       "  'terrain': 'grasslands, mountains',\n",
       "  'surface_water': '40',\n",
       "  'population': '2000000000',\n",
       "  'residents': ['https://swapi.co/api/people/5/',\n",
       "   'https://swapi.co/api/people/68/',\n",
       "   'https://swapi.co/api/people/81/'],\n",
       "  'films': ['https://swapi.co/api/films/6/', 'https://swapi.co/api/films/1/'],\n",
       "  'created': '2014-12-10T11:35:48.479000Z',\n",
       "  'edited': '2014-12-20T20:58:18.420000Z',\n",
       "  'url': 'https://swapi.co/api/planets/2/'},\n",
       " {'name': 'Yavin IV',\n",
       "  'rotation_period': '24',\n",
       "  'orbital_period': '4818',\n",
       "  'diameter': '10200',\n",
       "  'climate': 'temperate, tropical',\n",
       "  'gravity': '1 standard',\n",
       "  'terrain': 'jungle, rainforests',\n",
       "  'surface_water': '8',\n",
       "  'population': '1000',\n",
       "  'residents': [],\n",
       "  'films': ['https://swapi.co/api/films/1/'],\n",
       "  'created': '2014-12-10T11:37:19.144000Z',\n",
       "  'edited': '2014-12-20T20:58:18.421000Z',\n",
       "  'url': 'https://swapi.co/api/planets/3/'},\n",
       " {'name': 'Hoth',\n",
       "  'rotation_period': '23',\n",
       "  'orbital_period': '549',\n",
       "  'diameter': '7200',\n",
       "  'climate': 'frozen',\n",
       "  'gravity': '1.1 standard',\n",
       "  'terrain': 'tundra, ice caves, mountain ranges',\n",
       "  'surface_water': '100',\n",
       "  'population': 'unknown',\n",
       "  'residents': [],\n",
       "  'films': ['https://swapi.co/api/films/2/'],\n",
       "  'created': '2014-12-10T11:39:13.934000Z',\n",
       "  'edited': '2014-12-20T20:58:18.423000Z',\n",
       "  'url': 'https://swapi.co/api/planets/4/'},\n",
       " {'name': 'Dagobah',\n",
       "  'rotation_period': '23',\n",
       "  'orbital_period': '341',\n",
       "  'diameter': '8900',\n",
       "  'climate': 'murky',\n",
       "  'gravity': 'N/A',\n",
       "  'terrain': 'swamp, jungles',\n",
       "  'surface_water': '8',\n",
       "  'population': 'unknown',\n",
       "  'residents': [],\n",
       "  'films': ['https://swapi.co/api/films/2/',\n",
       "   'https://swapi.co/api/films/6/',\n",
       "   'https://swapi.co/api/films/3/'],\n",
       "  'created': '2014-12-10T11:42:22.590000Z',\n",
       "  'edited': '2014-12-20T20:58:18.425000Z',\n",
       "  'url': 'https://swapi.co/api/planets/5/'},\n",
       " {'name': 'Bespin',\n",
       "  'rotation_period': '12',\n",
       "  'orbital_period': '5110',\n",
       "  'diameter': '118000',\n",
       "  'climate': 'temperate',\n",
       "  'gravity': '1.5 (surface), 1 standard (Cloud City)',\n",
       "  'terrain': 'gas giant',\n",
       "  'surface_water': '0',\n",
       "  'population': '6000000',\n",
       "  'residents': ['https://swapi.co/api/people/26/'],\n",
       "  'films': ['https://swapi.co/api/films/2/'],\n",
       "  'created': '2014-12-10T11:43:55.240000Z',\n",
       "  'edited': '2014-12-20T20:58:18.427000Z',\n",
       "  'url': 'https://swapi.co/api/planets/6/'},\n",
       " {'name': 'Endor',\n",
       "  'rotation_period': '18',\n",
       "  'orbital_period': '402',\n",
       "  'diameter': '4900',\n",
       "  'climate': 'temperate',\n",
       "  'gravity': '0.85 standard',\n",
       "  'terrain': 'forests, mountains, lakes',\n",
       "  'surface_water': '8',\n",
       "  'population': '30000000',\n",
       "  'residents': ['https://swapi.co/api/people/30/'],\n",
       "  'films': ['https://swapi.co/api/films/3/'],\n",
       "  'created': '2014-12-10T11:50:29.349000Z',\n",
       "  'edited': '2014-12-20T20:58:18.429000Z',\n",
       "  'url': 'https://swapi.co/api/planets/7/'},\n",
       " {'name': 'Naboo',\n",
       "  'rotation_period': '26',\n",
       "  'orbital_period': '312',\n",
       "  'diameter': '12120',\n",
       "  'climate': 'temperate',\n",
       "  'gravity': '1 standard',\n",
       "  'terrain': 'grassy hills, swamps, forests, mountains',\n",
       "  'surface_water': '12',\n",
       "  'population': '4500000000',\n",
       "  'residents': ['https://swapi.co/api/people/3/',\n",
       "   'https://swapi.co/api/people/21/',\n",
       "   'https://swapi.co/api/people/36/',\n",
       "   'https://swapi.co/api/people/37/',\n",
       "   'https://swapi.co/api/people/38/',\n",
       "   'https://swapi.co/api/people/39/',\n",
       "   'https://swapi.co/api/people/42/',\n",
       "   'https://swapi.co/api/people/60/',\n",
       "   'https://swapi.co/api/people/61/',\n",
       "   'https://swapi.co/api/people/66/',\n",
       "   'https://swapi.co/api/people/35/'],\n",
       "  'films': ['https://swapi.co/api/films/5/',\n",
       "   'https://swapi.co/api/films/4/',\n",
       "   'https://swapi.co/api/films/6/',\n",
       "   'https://swapi.co/api/films/3/'],\n",
       "  'created': '2014-12-10T11:52:31.066000Z',\n",
       "  'edited': '2014-12-20T20:58:18.430000Z',\n",
       "  'url': 'https://swapi.co/api/planets/8/'},\n",
       " {'name': 'Coruscant',\n",
       "  'rotation_period': '24',\n",
       "  'orbital_period': '368',\n",
       "  'diameter': '12240',\n",
       "  'climate': 'temperate',\n",
       "  'gravity': '1 standard',\n",
       "  'terrain': 'cityscape, mountains',\n",
       "  'surface_water': 'unknown',\n",
       "  'population': '1000000000000',\n",
       "  'residents': ['https://swapi.co/api/people/34/',\n",
       "   'https://swapi.co/api/people/55/',\n",
       "   'https://swapi.co/api/people/74/'],\n",
       "  'films': ['https://swapi.co/api/films/5/',\n",
       "   'https://swapi.co/api/films/4/',\n",
       "   'https://swapi.co/api/films/6/',\n",
       "   'https://swapi.co/api/films/3/'],\n",
       "  'created': '2014-12-10T11:54:13.921000Z',\n",
       "  'edited': '2014-12-20T20:58:18.432000Z',\n",
       "  'url': 'https://swapi.co/api/planets/9/'},\n",
       " {'name': 'Kamino',\n",
       "  'rotation_period': '27',\n",
       "  'orbital_period': '463',\n",
       "  'diameter': '19720',\n",
       "  'climate': 'temperate',\n",
       "  'gravity': '1 standard',\n",
       "  'terrain': 'ocean',\n",
       "  'surface_water': '100',\n",
       "  'population': '1000000000',\n",
       "  'residents': ['https://swapi.co/api/people/22/',\n",
       "   'https://swapi.co/api/people/72/',\n",
       "   'https://swapi.co/api/people/73/'],\n",
       "  'films': ['https://swapi.co/api/films/5/'],\n",
       "  'created': '2014-12-10T12:45:06.577000Z',\n",
       "  'edited': '2014-12-20T20:58:18.434000Z',\n",
       "  'url': 'https://swapi.co/api/planets/10/'},\n",
       " {'name': 'Geonosis',\n",
       "  'rotation_period': '30',\n",
       "  'orbital_period': '256',\n",
       "  'diameter': '11370',\n",
       "  'climate': 'temperate, arid',\n",
       "  'gravity': '0.9 standard',\n",
       "  'terrain': 'rock, desert, mountain, barren',\n",
       "  'surface_water': '5',\n",
       "  'population': '100000000000',\n",
       "  'residents': ['https://swapi.co/api/people/63/'],\n",
       "  'films': ['https://swapi.co/api/films/5/'],\n",
       "  'created': '2014-12-10T12:47:22.350000Z',\n",
       "  'edited': '2014-12-20T20:58:18.437000Z',\n",
       "  'url': 'https://swapi.co/api/planets/11/'}]"
      ]
     },
     "execution_count": 34,
     "metadata": {},
     "output_type": "execute_result"
    }
   ],
   "source": [
    "planet_results = planet_data2['results']\n",
    "planet_results"
   ]
  },
  {
   "cell_type": "markdown",
   "metadata": {},
   "source": [
    "## 12) How many plants are there? Show me two different ways of displaying the answer.\n",
    "\n",
    "* *Tip: They won't match*"
   ]
  },
  {
   "cell_type": "code",
   "execution_count": 35,
   "metadata": {},
   "outputs": [
    {
     "data": {
      "text/plain": [
       "61"
      ]
     },
     "execution_count": 35,
     "metadata": {},
     "output_type": "execute_result"
    }
   ],
   "source": [
    "planet_data2['count']"
   ]
  },
  {
   "cell_type": "code",
   "execution_count": 36,
   "metadata": {},
   "outputs": [
    {
     "data": {
      "text/plain": [
       "10"
      ]
     },
     "execution_count": 36,
     "metadata": {},
     "output_type": "execute_result"
    }
   ],
   "source": [
    "len(planet_data2['results'])"
   ]
  },
  {
   "cell_type": "code",
   "execution_count": 37,
   "metadata": {},
   "outputs": [
    {
     "data": {
      "text/plain": [
       "{'name': 'Alderaan',\n",
       " 'rotation_period': '24',\n",
       " 'orbital_period': '364',\n",
       " 'diameter': '12500',\n",
       " 'climate': 'temperate',\n",
       " 'gravity': '1 standard',\n",
       " 'terrain': 'grasslands, mountains',\n",
       " 'surface_water': '40',\n",
       " 'population': '2000000000',\n",
       " 'residents': ['https://swapi.co/api/people/5/',\n",
       "  'https://swapi.co/api/people/68/',\n",
       "  'https://swapi.co/api/people/81/'],\n",
       " 'films': ['https://swapi.co/api/films/6/', 'https://swapi.co/api/films/1/'],\n",
       " 'created': '2014-12-10T11:35:48.479000Z',\n",
       " 'edited': '2014-12-20T20:58:18.420000Z',\n",
       " 'url': 'https://swapi.co/api/planets/2/'}"
      ]
     },
     "execution_count": 37,
     "metadata": {},
     "output_type": "execute_result"
    }
   ],
   "source": [
    "planet_results[0]"
   ]
  },
  {
   "cell_type": "markdown",
   "metadata": {},
   "source": [
    "# These questions are all list comprehension questions, if you'd like\n",
    "\n",
    "## 13) Get the population of each of the planets\n",
    "\n",
    "* *Tip: Only use the 10 results for now*\n",
    "* *Tip: Use a list comprehension*"
   ]
  },
  {
   "cell_type": "code",
   "execution_count": 38,
   "metadata": {},
   "outputs": [
    {
     "name": "stdout",
     "output_type": "stream",
     "text": [
      "Alderaan 2000000000\n",
      "Yavin IV 1000\n",
      "Hoth unknown\n",
      "Dagobah unknown\n",
      "Bespin 6000000\n",
      "Endor 30000000\n",
      "Naboo 4500000000\n",
      "Coruscant 1000000000000\n",
      "Kamino 1000000000\n",
      "Geonosis 100000000000\n"
     ]
    }
   ],
   "source": [
    "planet_pop = [print(planet['name'], planet['population']) for planet in planet_results]"
   ]
  },
  {
   "cell_type": "code",
   "execution_count": 39,
   "metadata": {},
   "outputs": [
    {
     "data": {
      "text/plain": [
       "[None, None, None, None, None, None, None, None, None, None]"
      ]
     },
     "execution_count": 39,
     "metadata": {},
     "output_type": "execute_result"
    }
   ],
   "source": [
    "planet_pop"
   ]
  },
  {
   "cell_type": "code",
   "execution_count": null,
   "metadata": {},
   "outputs": [],
   "source": []
  },
  {
   "cell_type": "markdown",
   "metadata": {},
   "source": [
    "## 14) Get the population of each of the planets, EXCEPT the ones that have a population of `'unknown'`\n",
    "\n",
    "* *Tip: Use a list comprehension with a filter (that's the `..if..` part at the end)*"
   ]
  },
  {
   "cell_type": "code",
   "execution_count": 40,
   "metadata": {},
   "outputs": [
    {
     "name": "stdout",
     "output_type": "stream",
     "text": [
      "Alderaan 2000000000\n",
      "Yavin IV 1000\n",
      "Bespin 6000000\n",
      "Endor 30000000\n",
      "Naboo 4500000000\n",
      "Coruscant 1000000000000\n",
      "Kamino 1000000000\n",
      "Geonosis 100000000000\n"
     ]
    }
   ],
   "source": [
    "planet_pop_known = [print(planet['name'], planet['population']) for planet in planet_results if planet['population'] != \"unknown\"]\n",
    "\n"
   ]
  },
  {
   "cell_type": "code",
   "execution_count": null,
   "metadata": {},
   "outputs": [],
   "source": []
  },
  {
   "cell_type": "code",
   "execution_count": null,
   "metadata": {},
   "outputs": [],
   "source": []
  },
  {
   "cell_type": "markdown",
   "metadata": {},
   "source": [
    "## 14) Add up the populations\n",
    "\n",
    "* *Tip: They're strings right now, so it isn't going to work unless you change something about them*"
   ]
  },
  {
   "cell_type": "code",
   "execution_count": 41,
   "metadata": {},
   "outputs": [],
   "source": [
    "planet_pop_count = 0\n",
    "for planet in planet_results:\n",
    "    if planet['population'] != \"unknown\":\n",
    "        planet_pop_count = planet_pop_count + int(planet['population'])"
   ]
  },
  {
   "cell_type": "code",
   "execution_count": 42,
   "metadata": {},
   "outputs": [
    {
     "name": "stdout",
     "output_type": "stream",
     "text": [
      "1107536001000\n"
     ]
    }
   ],
   "source": [
    "print(planet_pop_count)"
   ]
  },
  {
   "cell_type": "code",
   "execution_count": null,
   "metadata": {},
   "outputs": [],
   "source": []
  },
  {
   "cell_type": "markdown",
   "metadata": {},
   "source": [
    "## 15) Print what percentage of the total population each planet has\n",
    "\n",
    "I would like the sentences to be `\"The planet ____ has a population of _____, which is ___% of the total population\"`. If we don't know the planet's population, say `\"We don't know the population of _____\"`.\n",
    "\n",
    "* *Tip: This finally uses a for loop, but also the result of the last question*"
   ]
  },
  {
   "cell_type": "code",
   "execution_count": 43,
   "metadata": {},
   "outputs": [
    {
     "name": "stdout",
     "output_type": "stream",
     "text": [
      "The planet Alderaan has a population of 2000000000, which is 0.180581037% of the total population.\n",
      "The planet Yavin IV has a population of 1000, which is 9e-08% of the total population.\n",
      "We don't know the population of Hoth.\n",
      "We don't know the population of Dagobah.\n",
      "The planet Bespin has a population of 6000000, which is 0.000541743% of the total population.\n",
      "The planet Endor has a population of 30000000, which is 0.002708716% of the total population.\n",
      "The planet Naboo has a population of 4500000000, which is 0.406307334% of the total population.\n",
      "The planet Coruscant has a population of 1000000000000, which is 90.290518692% of the total population.\n",
      "The planet Kamino has a population of 1000000000, which is 0.090290519% of the total population.\n",
      "The planet Geonosis has a population of 100000000000, which is 9.029051869% of the total population.\n"
     ]
    }
   ],
   "source": [
    "for planet in planet_results:\n",
    "    if planet['population'] != \"unknown\":\n",
    "        print(f\"The planet {planet['name']} has a population of {planet['population']}, which is {round(int(planet['population'])/planet_pop_count * 100, 9)}% of the total population.\")\n",
    "    else:\n",
    "        print(f\"We don't know the population of {planet['name']}.\")"
   ]
  },
  {
   "cell_type": "code",
   "execution_count": null,
   "metadata": {},
   "outputs": [],
   "source": []
  },
  {
   "cell_type": "code",
   "execution_count": null,
   "metadata": {},
   "outputs": [],
   "source": []
  }
 ],
 "metadata": {
  "kernelspec": {
   "display_name": "Python 3",
   "language": "python",
   "name": "python3"
  },
  "language_info": {
   "codemirror_mode": {
    "name": "ipython",
    "version": 3
   },
   "file_extension": ".py",
   "mimetype": "text/x-python",
   "name": "python",
   "nbconvert_exporter": "python",
   "pygments_lexer": "ipython3",
   "version": "3.6.5"
  }
 },
 "nbformat": 4,
 "nbformat_minor": 2
}

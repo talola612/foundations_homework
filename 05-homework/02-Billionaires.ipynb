{
 "cells": [
  {
   "cell_type": "markdown",
   "metadata": {},
   "source": [
    "# Homework 5, Part 2: Answer questions with pandas\n",
    "\n",
    "**Use the Excel file to answer the following questions.** This is a little more typical of what your data exploration will look like with pandas."
   ]
  },
  {
   "cell_type": "markdown",
   "metadata": {},
   "source": [
    "## 0) Setup\n",
    "\n",
    "Import pandas **with the correct name** and set `matplotlib` to always display graphics in the notebook."
   ]
  },
  {
   "cell_type": "code",
   "execution_count": 1,
   "metadata": {},
   "outputs": [],
   "source": [
    "import pandas as pd\n",
    "%matplotlib inline"
   ]
  },
  {
   "cell_type": "markdown",
   "metadata": {},
   "source": [
    "## 1) Reading in an Excel file\n",
    "\n",
    "Use pandas to read in the `richpeople.xlsx` Excel file, saving it as a variable with the name we'll always use for a dataframe.\n",
    "\n",
    "> **TIP:** You will use `read_excel` instead of `read_csv`, *but you'll also need to install a new library*. You might need to restart your kernel afterward!"
   ]
  },
  {
   "cell_type": "code",
   "execution_count": 2,
   "metadata": {},
   "outputs": [
    {
     "name": "stdout",
     "output_type": "stream",
     "text": [
      "Requirement already satisfied: xlrd in /Users/tbi/.pyenv/versions/3.6.5/lib/python3.6/site-packages (1.2.0)\r\n"
     ]
    }
   ],
   "source": [
    "! pip install xlrd\n",
    "df = pd.read_excel('richpeople.xlsx')"
   ]
  },
  {
   "cell_type": "markdown",
   "metadata": {},
   "source": [
    "## 2) Checking your data\n",
    "\n",
    "Display the number of rows and columns in your data. Also display the names and data types of each column."
   ]
  },
  {
   "cell_type": "code",
   "execution_count": 3,
   "metadata": {},
   "outputs": [
    {
     "data": {
      "text/plain": [
       "(1653, 30)"
      ]
     },
     "execution_count": 3,
     "metadata": {},
     "output_type": "execute_result"
    }
   ],
   "source": [
    "df.shape"
   ]
  },
  {
   "cell_type": "code",
   "execution_count": 4,
   "metadata": {},
   "outputs": [
    {
     "data": {
      "text/plain": [
       "year                         int64\n",
       "name                        object\n",
       "rank                         int64\n",
       "citizenship                 object\n",
       "countrycode                 object\n",
       "networthusbillion          float64\n",
       "selfmade                    object\n",
       "typeofwealth                object\n",
       "gender                      object\n",
       "age                        float64\n",
       "industry                    object\n",
       "IndustryAggregates          object\n",
       "region                      object\n",
       "north                        int64\n",
       "politicalconnection        float64\n",
       "founder                      int64\n",
       "generationofinheritance     object\n",
       "sector                      object\n",
       "company                     object\n",
       "companytype                 object\n",
       "relationshiptocompany       object\n",
       "foundingdate               float64\n",
       "gdpcurrentus               float64\n",
       "sourceofwealth              object\n",
       "notes                       object\n",
       "notes2                      object\n",
       "source                      object\n",
       "source_2                    object\n",
       "source_3                    object\n",
       "source_4                    object\n",
       "dtype: object"
      ]
     },
     "execution_count": 4,
     "metadata": {},
     "output_type": "execute_result"
    }
   ],
   "source": [
    "df.dtypes"
   ]
  },
  {
   "cell_type": "code",
   "execution_count": null,
   "metadata": {},
   "outputs": [],
   "source": []
  },
  {
   "cell_type": "markdown",
   "metadata": {},
   "source": [
    "## 3) Who are the top 10 richest billionaires? Use the `networthusbillion` column."
   ]
  },
  {
   "cell_type": "code",
   "execution_count": 5,
   "metadata": {},
   "outputs": [
    {
     "data": {
      "text/html": [
       "<div>\n",
       "<style scoped>\n",
       "    .dataframe tbody tr th:only-of-type {\n",
       "        vertical-align: middle;\n",
       "    }\n",
       "\n",
       "    .dataframe tbody tr th {\n",
       "        vertical-align: top;\n",
       "    }\n",
       "\n",
       "    .dataframe thead th {\n",
       "        text-align: right;\n",
       "    }\n",
       "</style>\n",
       "<table border=\"1\" class=\"dataframe\">\n",
       "  <thead>\n",
       "    <tr style=\"text-align: right;\">\n",
       "      <th></th>\n",
       "      <th>name</th>\n",
       "      <th>networthusbillion</th>\n",
       "    </tr>\n",
       "  </thead>\n",
       "  <tbody>\n",
       "    <tr>\n",
       "      <th>184</th>\n",
       "      <td>Bill Gates</td>\n",
       "      <td>76.0</td>\n",
       "    </tr>\n",
       "    <tr>\n",
       "      <th>226</th>\n",
       "      <td>Carlos Slim Helu</td>\n",
       "      <td>72.0</td>\n",
       "    </tr>\n",
       "    <tr>\n",
       "      <th>79</th>\n",
       "      <td>Amancio Ortega</td>\n",
       "      <td>64.0</td>\n",
       "    </tr>\n",
       "    <tr>\n",
       "      <th>1562</th>\n",
       "      <td>Warren Buffett</td>\n",
       "      <td>58.2</td>\n",
       "    </tr>\n",
       "    <tr>\n",
       "      <th>862</th>\n",
       "      <td>Larry Ellison</td>\n",
       "      <td>48.0</td>\n",
       "    </tr>\n",
       "    <tr>\n",
       "      <th>339</th>\n",
       "      <td>David Koch</td>\n",
       "      <td>40.0</td>\n",
       "    </tr>\n",
       "    <tr>\n",
       "      <th>247</th>\n",
       "      <td>Charles Koch</td>\n",
       "      <td>40.0</td>\n",
       "    </tr>\n",
       "    <tr>\n",
       "      <th>1364</th>\n",
       "      <td>Sheldon Adelson</td>\n",
       "      <td>38.0</td>\n",
       "    </tr>\n",
       "    <tr>\n",
       "      <th>280</th>\n",
       "      <td>Christy Walton</td>\n",
       "      <td>36.7</td>\n",
       "    </tr>\n",
       "    <tr>\n",
       "      <th>724</th>\n",
       "      <td>Jim Walton</td>\n",
       "      <td>34.7</td>\n",
       "    </tr>\n",
       "  </tbody>\n",
       "</table>\n",
       "</div>"
      ],
      "text/plain": [
       "                  name  networthusbillion\n",
       "184         Bill Gates               76.0\n",
       "226   Carlos Slim Helu               72.0\n",
       "79      Amancio Ortega               64.0\n",
       "1562    Warren Buffett               58.2\n",
       "862      Larry Ellison               48.0\n",
       "339         David Koch               40.0\n",
       "247       Charles Koch               40.0\n",
       "1364   Sheldon Adelson               38.0\n",
       "280     Christy Walton               36.7\n",
       "724         Jim Walton               34.7"
      ]
     },
     "execution_count": 5,
     "metadata": {},
     "output_type": "execute_result"
    }
   ],
   "source": [
    "df[['name', 'networthusbillion']].sort_values('networthusbillion', ascending = False).head(10)"
   ]
  },
  {
   "cell_type": "markdown",
   "metadata": {},
   "source": [
    "## 4) How many male billionaires are there compared to the number of female billionares? What percent is that? Do they have a different average wealth?\n",
    "\n",
    "> **TIP:** The last part uses `groupby`, but the count/percent part does not.\n",
    "> **TIP:** When I say \"average,\" you can pick what kind of average you use."
   ]
  },
  {
   "cell_type": "code",
   "execution_count": 6,
   "metadata": {},
   "outputs": [
    {
     "data": {
      "text/plain": [
       "male      1473\n",
       "female     180\n",
       "Name: gender, dtype: int64"
      ]
     },
     "execution_count": 6,
     "metadata": {},
     "output_type": "execute_result"
    }
   ],
   "source": [
    "df.gender.value_counts()"
   ]
  },
  {
   "cell_type": "code",
   "execution_count": 7,
   "metadata": {},
   "outputs": [
    {
     "data": {
      "text/plain": [
       "male      0.891107\n",
       "female    0.108893\n",
       "Name: gender, dtype: float64"
      ]
     },
     "execution_count": 7,
     "metadata": {},
     "output_type": "execute_result"
    }
   ],
   "source": [
    "df.gender.value_counts()/df.gender.count()"
   ]
  },
  {
   "cell_type": "code",
   "execution_count": 8,
   "metadata": {},
   "outputs": [
    {
     "data": {
      "text/plain": [
       "gender\n",
       "female    3.920556\n",
       "male      3.902716\n",
       "Name: networthusbillion, dtype: float64"
      ]
     },
     "execution_count": 8,
     "metadata": {},
     "output_type": "execute_result"
    }
   ],
   "source": [
    "df.groupby(by = 'gender').networthusbillion.mean()"
   ]
  },
  {
   "cell_type": "markdown",
   "metadata": {},
   "source": [
    "## 5) What is the most common source/type of wealth? Is it different between males and females?\n",
    "\n",
    "> **TIP:** You know how to `groupby` and you know how to count how many times a value is in a column. Can you put them together???\n",
    "> **TIP:** Use percentages for this, it makes it a lot more readable."
   ]
  },
  {
   "cell_type": "code",
   "execution_count": 9,
   "metadata": {},
   "outputs": [
    {
     "data": {
      "text/plain": [
       "inherited    506\n",
       "Name: typeofwealth, dtype: int64"
      ]
     },
     "execution_count": 9,
     "metadata": {},
     "output_type": "execute_result"
    }
   ],
   "source": [
    "df.typeofwealth.value_counts().head(1)"
   ]
  },
  {
   "cell_type": "code",
   "execution_count": 10,
   "metadata": {},
   "outputs": [
    {
     "data": {
      "text/plain": [
       "gender  typeofwealth            \n",
       "female  inherited                   0.086008\n",
       "        founder non-finance         0.012720\n",
       "        executive                   0.003634\n",
       "        self-made finance           0.003634\n",
       "        privatized and resources    0.003028\n",
       "male    founder non-finance         0.270139\n",
       "        inherited                   0.220472\n",
       "        self-made finance           0.204724\n",
       "        privatized and resources    0.113265\n",
       "        executive                   0.082374\n",
       "Name: typeofwealth, dtype: float64"
      ]
     },
     "execution_count": 10,
     "metadata": {},
     "output_type": "execute_result"
    }
   ],
   "source": [
    "df.groupby('gender').typeofwealth.value_counts()/df.typeofwealth.count()"
   ]
  },
  {
   "cell_type": "markdown",
   "metadata": {},
   "source": [
    "## 6) What companies have the most billionaires? Graph the top 5 as a horizontal bar graph.\n",
    "\n",
    "> **TIP:** First find the answer to the question, then just try to throw `.plot()` on the end\n",
    ">\n",
    "> **TIP:** You can use `.head()` on *anything*, not just your basic `df`\n",
    ">\n",
    "> **TIP:** You might feel like you should use `groupby`, but don't! There's an easier way to count.\n",
    ">\n",
    "> **TIP:** Make the largest bar be at the top of the graph\n",
    ">\n",
    "> **TIP:** If your chart seems... weird, think about where in the process you're sorting vs using `head`"
   ]
  },
  {
   "cell_type": "code",
   "execution_count": 11,
   "metadata": {},
   "outputs": [
    {
     "data": {
      "text/plain": [
       "<matplotlib.axes._subplots.AxesSubplot at 0x10f2bea90>"
      ]
     },
     "execution_count": 11,
     "metadata": {},
     "output_type": "execute_result"
    },
    {
     "data": {
      "image/png": "[encoded data removed]",
      "text/plain": [
       "<Figure size 432x288 with 1 Axes>"
      ]
     },
     "metadata": {
      "needs_background": "light"
     },
     "output_type": "display_data"
    }
   ],
   "source": [
    "# df.groupby('company').value\n",
    "df.company.value_counts().head(5).sort_values().plot(kind = 'barh')"
   ]
  },
  {
   "cell_type": "markdown",
   "metadata": {},
   "source": [
    "## 7) How much money do these billionaires have in total?"
   ]
  },
  {
   "cell_type": "code",
   "execution_count": 12,
   "metadata": {},
   "outputs": [
    {
     "data": {
      "text/plain": [
       "6454.400000000001"
      ]
     },
     "execution_count": 12,
     "metadata": {},
     "output_type": "execute_result"
    }
   ],
   "source": [
    "df.networthusbillion.sum()"
   ]
  },
  {
   "cell_type": "markdown",
   "metadata": {},
   "source": [
    "## 8) What are the top 10 countries with the most money held by billionaires?\n",
    "\n",
    "I am **not** asking which country has the most billionaires - this is **total amount of money per country.**\n",
    "\n",
    "> **TIP:** Think about it in steps - \"I want them organized by country,\" \"I want their net worth,\" \"I want to add it all up,\" and \"I want 10 of them.\" Just chain it all together."
   ]
  },
  {
   "cell_type": "code",
   "execution_count": 13,
   "metadata": {},
   "outputs": [
    {
     "data": {
      "text/plain": [
       "countrycode\n",
       "USA    2322.4\n",
       "RUS     422.5\n",
       "DEU     401.4\n",
       "CHN     375.8\n",
       "FRA     235.3\n",
       "HKG     213.7\n",
       "BRA     192.2\n",
       "IND     191.9\n",
       "ITA     158.1\n",
       "GBR     152.0\n",
       "Name: networthusbillion, dtype: float64"
      ]
     },
     "execution_count": 13,
     "metadata": {},
     "output_type": "execute_result"
    }
   ],
   "source": [
    "df.groupby('countrycode').networthusbillion.sum().sort_values(ascending = False).head(10)"
   ]
  },
  {
   "cell_type": "markdown",
   "metadata": {},
   "source": [
    "## 9) How old is an average billionaire? How old are self-made billionaires  vs. non self-made billionaires? "
   ]
  },
  {
   "cell_type": "code",
   "execution_count": 14,
   "metadata": {},
   "outputs": [
    {
     "data": {
      "text/plain": [
       "63.34213836477988"
      ]
     },
     "execution_count": 14,
     "metadata": {},
     "output_type": "execute_result"
    }
   ],
   "source": [
    "df.age.mean()"
   ]
  },
  {
   "cell_type": "code",
   "execution_count": 15,
   "metadata": {},
   "outputs": [
    {
     "data": {
      "text/plain": [
       "selfmade\n",
       "inherited    64.962185\n",
       "self-made    62.625899\n",
       "Name: age, dtype: float64"
      ]
     },
     "execution_count": 15,
     "metadata": {},
     "output_type": "execute_result"
    }
   ],
   "source": [
    "df.groupby('selfmade').age.mean()"
   ]
  },
  {
   "cell_type": "markdown",
   "metadata": {},
   "source": [
    "## 10) Who are the youngest billionaires? Who are the oldest? Make a graph of the distribution of ages.\n",
    "\n",
    "> **TIP:** You use `.plot()` to graph values in a column independently, but `.hist()` to draw a [histogram](https://www.mathsisfun.com/data/histograms.html) of the distribution of their values"
   ]
  },
  {
   "cell_type": "code",
   "execution_count": 16,
   "metadata": {},
   "outputs": [
    {
     "data": {
      "text/html": [
       "<div>\n",
       "<style scoped>\n",
       "    .dataframe tbody tr th:only-of-type {\n",
       "        vertical-align: middle;\n",
       "    }\n",
       "\n",
       "    .dataframe tbody tr th {\n",
       "        vertical-align: top;\n",
       "    }\n",
       "\n",
       "    .dataframe thead th {\n",
       "        text-align: right;\n",
       "    }\n",
       "</style>\n",
       "<table border=\"1\" class=\"dataframe\">\n",
       "  <thead>\n",
       "    <tr style=\"text-align: right;\">\n",
       "      <th></th>\n",
       "      <th>year</th>\n",
       "      <th>name</th>\n",
       "      <th>rank</th>\n",
       "      <th>citizenship</th>\n",
       "      <th>countrycode</th>\n",
       "      <th>networthusbillion</th>\n",
       "      <th>selfmade</th>\n",
       "      <th>typeofwealth</th>\n",
       "      <th>gender</th>\n",
       "      <th>age</th>\n",
       "      <th>...</th>\n",
       "      <th>relationshiptocompany</th>\n",
       "      <th>foundingdate</th>\n",
       "      <th>gdpcurrentus</th>\n",
       "      <th>sourceofwealth</th>\n",
       "      <th>notes</th>\n",
       "      <th>notes2</th>\n",
       "      <th>source</th>\n",
       "      <th>source_2</th>\n",
       "      <th>source_3</th>\n",
       "      <th>source_4</th>\n",
       "    </tr>\n",
       "  </thead>\n",
       "  <tbody>\n",
       "    <tr>\n",
       "      <th>1172</th>\n",
       "      <td>2014</td>\n",
       "      <td>Perenna Kei</td>\n",
       "      <td>1284</td>\n",
       "      <td>Hong Kong</td>\n",
       "      <td>HKG</td>\n",
       "      <td>1.3</td>\n",
       "      <td>inherited</td>\n",
       "      <td>inherited</td>\n",
       "      <td>female</td>\n",
       "      <td>24.0</td>\n",
       "      <td>...</td>\n",
       "      <td>relation</td>\n",
       "      <td>1996.0</td>\n",
       "      <td>NaN</td>\n",
       "      <td>real estate</td>\n",
       "      <td>inherited from father</td>\n",
       "      <td>NaN</td>\n",
       "      <td>http://en.wikipedia.org/wiki/Perenna_Kei</td>\n",
       "      <td>http://www.loganestate.com/en/about.aspx?ftid=294</td>\n",
       "      <td>NaN</td>\n",
       "      <td>NaN</td>\n",
       "    </tr>\n",
       "  </tbody>\n",
       "</table>\n",
       "<p>1 rows × 30 columns</p>\n",
       "</div>"
      ],
      "text/plain": [
       "      year         name  rank citizenship countrycode  networthusbillion  \\\n",
       "1172  2014  Perenna Kei  1284   Hong Kong         HKG                1.3   \n",
       "\n",
       "       selfmade typeofwealth  gender   age  ... relationshiptocompany  \\\n",
       "1172  inherited    inherited  female  24.0  ...              relation   \n",
       "\n",
       "     foundingdate gdpcurrentus  sourceofwealth                  notes  notes2  \\\n",
       "1172       1996.0          NaN     real estate  inherited from father     NaN   \n",
       "\n",
       "                                        source  \\\n",
       "1172  http://en.wikipedia.org/wiki/Perenna_Kei   \n",
       "\n",
       "                                               source_2 source_3 source_4  \n",
       "1172  http://www.loganestate.com/en/about.aspx?ftid=294      NaN      NaN  \n",
       "\n",
       "[1 rows x 30 columns]"
      ]
     },
     "execution_count": 16,
     "metadata": {},
     "output_type": "execute_result"
    }
   ],
   "source": [
    "df.sort_values('age').head(1)"
   ]
  },
  {
   "cell_type": "code",
   "execution_count": 17,
   "metadata": {},
   "outputs": [
    {
     "data": {
      "text/html": [
       "<div>\n",
       "<style scoped>\n",
       "    .dataframe tbody tr th:only-of-type {\n",
       "        vertical-align: middle;\n",
       "    }\n",
       "\n",
       "    .dataframe tbody tr th {\n",
       "        vertical-align: top;\n",
       "    }\n",
       "\n",
       "    .dataframe thead th {\n",
       "        text-align: right;\n",
       "    }\n",
       "</style>\n",
       "<table border=\"1\" class=\"dataframe\">\n",
       "  <thead>\n",
       "    <tr style=\"text-align: right;\">\n",
       "      <th></th>\n",
       "      <th>year</th>\n",
       "      <th>name</th>\n",
       "      <th>rank</th>\n",
       "      <th>citizenship</th>\n",
       "      <th>countrycode</th>\n",
       "      <th>networthusbillion</th>\n",
       "      <th>selfmade</th>\n",
       "      <th>typeofwealth</th>\n",
       "      <th>gender</th>\n",
       "      <th>age</th>\n",
       "      <th>...</th>\n",
       "      <th>relationshiptocompany</th>\n",
       "      <th>foundingdate</th>\n",
       "      <th>gdpcurrentus</th>\n",
       "      <th>sourceofwealth</th>\n",
       "      <th>notes</th>\n",
       "      <th>notes2</th>\n",
       "      <th>source</th>\n",
       "      <th>source_2</th>\n",
       "      <th>source_3</th>\n",
       "      <th>source_4</th>\n",
       "    </tr>\n",
       "  </thead>\n",
       "  <tbody>\n",
       "    <tr>\n",
       "      <th>343</th>\n",
       "      <td>2014</td>\n",
       "      <td>David Rockefeller, Sr.</td>\n",
       "      <td>580</td>\n",
       "      <td>United States</td>\n",
       "      <td>USA</td>\n",
       "      <td>2.9</td>\n",
       "      <td>inherited</td>\n",
       "      <td>inherited</td>\n",
       "      <td>male</td>\n",
       "      <td>98.0</td>\n",
       "      <td>...</td>\n",
       "      <td>relation</td>\n",
       "      <td>1870.0</td>\n",
       "      <td>NaN</td>\n",
       "      <td>oil, banking</td>\n",
       "      <td>family made most of fortune in the late 19th a...</td>\n",
       "      <td>NaN</td>\n",
       "      <td>http://en.wikipedia.org/wiki/David_Rockefeller</td>\n",
       "      <td>http://en.wikipedia.org/wiki/Standard_Oil</td>\n",
       "      <td>http://en.wikipedia.org/wiki/Rockefeller_family</td>\n",
       "      <td>NaN</td>\n",
       "    </tr>\n",
       "  </tbody>\n",
       "</table>\n",
       "<p>1 rows × 30 columns</p>\n",
       "</div>"
      ],
      "text/plain": [
       "     year                    name  rank    citizenship countrycode  \\\n",
       "343  2014  David Rockefeller, Sr.   580  United States         USA   \n",
       "\n",
       "     networthusbillion   selfmade typeofwealth gender   age  ...  \\\n",
       "343                2.9  inherited    inherited   male  98.0  ...   \n",
       "\n",
       "    relationshiptocompany foundingdate gdpcurrentus  sourceofwealth  \\\n",
       "343              relation       1870.0          NaN    oil, banking   \n",
       "\n",
       "                                                 notes  notes2  \\\n",
       "343  family made most of fortune in the late 19th a...     NaN   \n",
       "\n",
       "                                             source  \\\n",
       "343  http://en.wikipedia.org/wiki/David_Rockefeller   \n",
       "\n",
       "                                      source_2  \\\n",
       "343  http://en.wikipedia.org/wiki/Standard_Oil   \n",
       "\n",
       "                                            source_3 source_4  \n",
       "343  http://en.wikipedia.org/wiki/Rockefeller_family      NaN  \n",
       "\n",
       "[1 rows x 30 columns]"
      ]
     },
     "execution_count": 17,
     "metadata": {},
     "output_type": "execute_result"
    }
   ],
   "source": [
    "df.sort_values('age', ascending = False).head(1)"
   ]
  },
  {
   "cell_type": "code",
   "execution_count": 18,
   "metadata": {},
   "outputs": [
    {
     "data": {
      "text/plain": [
       "<matplotlib.axes._subplots.AxesSubplot at 0x10f347cc0>"
      ]
     },
     "execution_count": 18,
     "metadata": {},
     "output_type": "execute_result"
    },
    {
     "data": {
      "image/png": "[encoded data removed]",
      "text/plain": [
       "<Figure size 432x288 with 1 Axes>"
      ]
     },
     "metadata": {
      "needs_background": "light"
     },
     "output_type": "display_data"
    }
   ],
   "source": [
    "df.age.hist()"
   ]
  },
  {
   "cell_type": "markdown",
   "metadata": {},
   "source": [
    "## 11) Make a scatterplot of net worth compared to age"
   ]
  },
  {
   "cell_type": "code",
   "execution_count": null,
   "metadata": {},
   "outputs": [],
   "source": []
  },
  {
   "cell_type": "code",
   "execution_count": 19,
   "metadata": {},
   "outputs": [
    {
     "data": {
      "text/plain": [
       "<matplotlib.axes._subplots.AxesSubplot at 0x10f14a6a0>"
      ]
     },
     "execution_count": 19,
     "metadata": {},
     "output_type": "execute_result"
    },
    {
     "data": {
      "image/png": "[encoded data removed]",
      "text/plain": [
       "<Figure size 432x288 with 1 Axes>"
      ]
     },
     "metadata": {
      "needs_background": "light"
     },
     "output_type": "display_data"
    }
   ],
   "source": [
    "df.plot(x = 'age', y = 'networthusbillion', kind = 'scatter')"
   ]
  },
  {
   "cell_type": "markdown",
   "metadata": {},
   "source": [
    "## 13) Make a bar graph of the wealth of the top 10 richest billionaires\n",
    "\n",
    "> **TIP:** When you make your plot, you'll need to set the `x` and `y` or else your chart will look _crazy_\n",
    ">\n",
    "> **TIP:** x and y might be the opposite of what you expect them to be"
   ]
  },
  {
   "cell_type": "code",
   "execution_count": 20,
   "metadata": {},
   "outputs": [
    {
     "data": {
      "text/plain": [
       "<matplotlib.axes._subplots.AxesSubplot at 0x10f12e048>"
      ]
     },
     "execution_count": 20,
     "metadata": {},
     "output_type": "execute_result"
    },
    {
     "data": {
      "image/png": "[encoded data removed]",
      "text/plain": [
       "<Figure size 432x288 with 1 Axes>"
      ]
     },
     "metadata": {
      "needs_background": "light"
     },
     "output_type": "display_data"
    }
   ],
   "source": [
    "df.sort_values('networthusbillion', ascending = False).head(10).plot(x = 'name', y = 'networthusbillion', kind = 'barh')\n",
    "\n"
   ]
  },
  {
   "cell_type": "code",
   "execution_count": null,
   "metadata": {},
   "outputs": [],
   "source": []
  },
  {
   "cell_type": "code",
   "execution_count": null,
   "metadata": {},
   "outputs": [],
   "source": []
  }
 ],
 "metadata": {
  "kernelspec": {
   "display_name": "Python 3",
   "language": "python",
   "name": "python3"
  },
  "language_info": {
   "codemirror_mode": {
    "name": "ipython",
    "version": 3
   },
   "file_extension": ".py",
   "mimetype": "text/x-python",
   "name": "python",
   "nbconvert_exporter": "python",
   "pygments_lexer": "ipython3",
   "version": "3.6.5"
  }
 },
 "nbformat": 4,
 "nbformat_minor": 2
}
